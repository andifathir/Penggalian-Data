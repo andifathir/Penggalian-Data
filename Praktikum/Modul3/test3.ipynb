{
 "cells": [
  {
   "cell_type": "code",
   "execution_count": 1,
   "id": "eb9ef1b2",
   "metadata": {},
   "outputs": [
    {
     "data": {
      "application/vnd.microsoft.datawrangler.viewer.v0+json": {
       "columns": [
        {
         "name": "index",
         "rawType": "int64",
         "type": "integer"
        },
        {
         "name": "age",
         "rawType": "int64",
         "type": "integer"
        },
        {
         "name": "job",
         "rawType": "object",
         "type": "string"
        },
        {
         "name": "marital",
         "rawType": "object",
         "type": "string"
        },
        {
         "name": "education",
         "rawType": "object",
         "type": "string"
        },
        {
         "name": "default",
         "rawType": "object",
         "type": "string"
        },
        {
         "name": "balance",
         "rawType": "int64",
         "type": "integer"
        },
        {
         "name": "housing",
         "rawType": "object",
         "type": "string"
        },
        {
         "name": "loan",
         "rawType": "object",
         "type": "string"
        },
        {
         "name": "contact",
         "rawType": "object",
         "type": "string"
        },
        {
         "name": "day",
         "rawType": "int64",
         "type": "integer"
        },
        {
         "name": "month",
         "rawType": "object",
         "type": "string"
        },
        {
         "name": "duration",
         "rawType": "int64",
         "type": "integer"
        },
        {
         "name": "campaign",
         "rawType": "int64",
         "type": "integer"
        },
        {
         "name": "pdays",
         "rawType": "int64",
         "type": "integer"
        },
        {
         "name": "previous",
         "rawType": "int64",
         "type": "integer"
        },
        {
         "name": "poutcome",
         "rawType": "object",
         "type": "string"
        },
        {
         "name": "deposit",
         "rawType": "object",
         "type": "string"
        }
       ],
       "conversionMethod": "pd.DataFrame",
       "ref": "38a20bad-68f2-4b65-a5b3-dba5d7795529",
       "rows": [
        [
         "0",
         "59",
         "admin.",
         "married",
         "secondary",
         "no",
         "2343",
         "yes",
         "no",
         "unknown",
         "5",
         "may",
         "1042",
         "1",
         "-1",
         "0",
         "unknown",
         "yes"
        ],
        [
         "1",
         "56",
         "admin.",
         "married",
         "secondary",
         "no",
         "45",
         "no",
         "no",
         "unknown",
         "5",
         "may",
         "1467",
         "1",
         "-1",
         "0",
         "unknown",
         "yes"
        ],
        [
         "2",
         "41",
         "technician",
         "married",
         "secondary",
         "no",
         "1270",
         "yes",
         "no",
         "unknown",
         "5",
         "may",
         "1389",
         "1",
         "-1",
         "0",
         "unknown",
         "yes"
        ],
        [
         "3",
         "55",
         "services",
         "married",
         "secondary",
         "no",
         "2476",
         "yes",
         "no",
         "unknown",
         "5",
         "may",
         "579",
         "1",
         "-1",
         "0",
         "unknown",
         "yes"
        ],
        [
         "4",
         "54",
         "admin.",
         "married",
         "tertiary",
         "no",
         "184",
         "no",
         "no",
         "unknown",
         "5",
         "may",
         "673",
         "2",
         "-1",
         "0",
         "unknown",
         "yes"
        ]
       ],
       "shape": {
        "columns": 17,
        "rows": 5
       }
      },
      "text/html": [
       "<div>\n",
       "<style scoped>\n",
       "    .dataframe tbody tr th:only-of-type {\n",
       "        vertical-align: middle;\n",
       "    }\n",
       "\n",
       "    .dataframe tbody tr th {\n",
       "        vertical-align: top;\n",
       "    }\n",
       "\n",
       "    .dataframe thead th {\n",
       "        text-align: right;\n",
       "    }\n",
       "</style>\n",
       "<table border=\"1\" class=\"dataframe\">\n",
       "  <thead>\n",
       "    <tr style=\"text-align: right;\">\n",
       "      <th></th>\n",
       "      <th>age</th>\n",
       "      <th>job</th>\n",
       "      <th>marital</th>\n",
       "      <th>education</th>\n",
       "      <th>default</th>\n",
       "      <th>balance</th>\n",
       "      <th>housing</th>\n",
       "      <th>loan</th>\n",
       "      <th>contact</th>\n",
       "      <th>day</th>\n",
       "      <th>month</th>\n",
       "      <th>duration</th>\n",
       "      <th>campaign</th>\n",
       "      <th>pdays</th>\n",
       "      <th>previous</th>\n",
       "      <th>poutcome</th>\n",
       "      <th>deposit</th>\n",
       "    </tr>\n",
       "  </thead>\n",
       "  <tbody>\n",
       "    <tr>\n",
       "      <th>0</th>\n",
       "      <td>59</td>\n",
       "      <td>admin.</td>\n",
       "      <td>married</td>\n",
       "      <td>secondary</td>\n",
       "      <td>no</td>\n",
       "      <td>2343</td>\n",
       "      <td>yes</td>\n",
       "      <td>no</td>\n",
       "      <td>unknown</td>\n",
       "      <td>5</td>\n",
       "      <td>may</td>\n",
       "      <td>1042</td>\n",
       "      <td>1</td>\n",
       "      <td>-1</td>\n",
       "      <td>0</td>\n",
       "      <td>unknown</td>\n",
       "      <td>yes</td>\n",
       "    </tr>\n",
       "    <tr>\n",
       "      <th>1</th>\n",
       "      <td>56</td>\n",
       "      <td>admin.</td>\n",
       "      <td>married</td>\n",
       "      <td>secondary</td>\n",
       "      <td>no</td>\n",
       "      <td>45</td>\n",
       "      <td>no</td>\n",
       "      <td>no</td>\n",
       "      <td>unknown</td>\n",
       "      <td>5</td>\n",
       "      <td>may</td>\n",
       "      <td>1467</td>\n",
       "      <td>1</td>\n",
       "      <td>-1</td>\n",
       "      <td>0</td>\n",
       "      <td>unknown</td>\n",
       "      <td>yes</td>\n",
       "    </tr>\n",
       "    <tr>\n",
       "      <th>2</th>\n",
       "      <td>41</td>\n",
       "      <td>technician</td>\n",
       "      <td>married</td>\n",
       "      <td>secondary</td>\n",
       "      <td>no</td>\n",
       "      <td>1270</td>\n",
       "      <td>yes</td>\n",
       "      <td>no</td>\n",
       "      <td>unknown</td>\n",
       "      <td>5</td>\n",
       "      <td>may</td>\n",
       "      <td>1389</td>\n",
       "      <td>1</td>\n",
       "      <td>-1</td>\n",
       "      <td>0</td>\n",
       "      <td>unknown</td>\n",
       "      <td>yes</td>\n",
       "    </tr>\n",
       "    <tr>\n",
       "      <th>3</th>\n",
       "      <td>55</td>\n",
       "      <td>services</td>\n",
       "      <td>married</td>\n",
       "      <td>secondary</td>\n",
       "      <td>no</td>\n",
       "      <td>2476</td>\n",
       "      <td>yes</td>\n",
       "      <td>no</td>\n",
       "      <td>unknown</td>\n",
       "      <td>5</td>\n",
       "      <td>may</td>\n",
       "      <td>579</td>\n",
       "      <td>1</td>\n",
       "      <td>-1</td>\n",
       "      <td>0</td>\n",
       "      <td>unknown</td>\n",
       "      <td>yes</td>\n",
       "    </tr>\n",
       "    <tr>\n",
       "      <th>4</th>\n",
       "      <td>54</td>\n",
       "      <td>admin.</td>\n",
       "      <td>married</td>\n",
       "      <td>tertiary</td>\n",
       "      <td>no</td>\n",
       "      <td>184</td>\n",
       "      <td>no</td>\n",
       "      <td>no</td>\n",
       "      <td>unknown</td>\n",
       "      <td>5</td>\n",
       "      <td>may</td>\n",
       "      <td>673</td>\n",
       "      <td>2</td>\n",
       "      <td>-1</td>\n",
       "      <td>0</td>\n",
       "      <td>unknown</td>\n",
       "      <td>yes</td>\n",
       "    </tr>\n",
       "  </tbody>\n",
       "</table>\n",
       "</div>"
      ],
      "text/plain": [
       "   age         job  marital  education default  balance housing loan  contact  \\\n",
       "0   59      admin.  married  secondary      no     2343     yes   no  unknown   \n",
       "1   56      admin.  married  secondary      no       45      no   no  unknown   \n",
       "2   41  technician  married  secondary      no     1270     yes   no  unknown   \n",
       "3   55    services  married  secondary      no     2476     yes   no  unknown   \n",
       "4   54      admin.  married   tertiary      no      184      no   no  unknown   \n",
       "\n",
       "   day month  duration  campaign  pdays  previous poutcome deposit  \n",
       "0    5   may      1042         1     -1         0  unknown     yes  \n",
       "1    5   may      1467         1     -1         0  unknown     yes  \n",
       "2    5   may      1389         1     -1         0  unknown     yes  \n",
       "3    5   may       579         1     -1         0  unknown     yes  \n",
       "4    5   may       673         2     -1         0  unknown     yes  "
      ]
     },
     "execution_count": 1,
     "metadata": {},
     "output_type": "execute_result"
    }
   ],
   "source": [
    "import pandas as pd\n",
    "\n",
    "# Load the dataset\n",
    "file_path = 'tugas3_genap.csv'\n",
    "df = pd.read_csv(file_path)\n",
    "\n",
    "# Display the first few rows to understand the data\n",
    "df.head()"
   ]
  },
  {
   "cell_type": "code",
   "execution_count": 2,
   "id": "11b838d9",
   "metadata": {},
   "outputs": [
    {
     "data": {
      "text/plain": [
       "['job',\n",
       " 'marital',\n",
       " 'education',\n",
       " 'default',\n",
       " 'housing',\n",
       " 'loan',\n",
       " 'contact',\n",
       " 'month',\n",
       " 'poutcome']"
      ]
     },
     "execution_count": 2,
     "metadata": {},
     "output_type": "execute_result"
    }
   ],
   "source": [
    "from sklearn.preprocessing import OneHotEncoder, LabelEncoder, OrdinalEncoder\n",
    "import numpy as np\n",
    "\n",
    "# Identifikasi kolom kategorikal\n",
    "categorical_cols = df.select_dtypes(include=['object']).columns.tolist()\n",
    "categorical_cols.remove('deposit')  # deposit adalah target\n",
    "categorical_cols\n"
   ]
  },
  {
   "cell_type": "code",
   "execution_count": 11,
   "id": "76b5e499",
   "metadata": {},
   "outputs": [
    {
     "data": {
      "application/vnd.microsoft.datawrangler.viewer.v0+json": {
       "columns": [
        {
         "name": "index",
         "rawType": "int64",
         "type": "integer"
        },
        {
         "name": "age",
         "rawType": "int64",
         "type": "integer"
        },
        {
         "name": "age_group",
         "rawType": "category",
         "type": "unknown"
        },
        {
         "name": "marital",
         "rawType": "int64",
         "type": "integer"
        },
        {
         "name": "education",
         "rawType": "float64",
         "type": "float"
        }
       ],
       "conversionMethod": "pd.DataFrame",
       "ref": "ba0ec988-52ea-4782-be4b-5b4b665a5e7d",
       "rows": [
        [
         "0",
         "59",
         "Paruh Baya",
         "1",
         "1.0"
        ],
        [
         "1",
         "56",
         "Paruh Baya",
         "1",
         "1.0"
        ],
        [
         "2",
         "41",
         "Dewasa",
         "1",
         "1.0"
        ],
        [
         "3",
         "55",
         "Paruh Baya",
         "1",
         "1.0"
        ],
        [
         "4",
         "54",
         "Paruh Baya",
         "1",
         "2.0"
        ]
       ],
       "shape": {
        "columns": 4,
        "rows": 5
       }
      },
      "text/html": [
       "<div>\n",
       "<style scoped>\n",
       "    .dataframe tbody tr th:only-of-type {\n",
       "        vertical-align: middle;\n",
       "    }\n",
       "\n",
       "    .dataframe tbody tr th {\n",
       "        vertical-align: top;\n",
       "    }\n",
       "\n",
       "    .dataframe thead th {\n",
       "        text-align: right;\n",
       "    }\n",
       "</style>\n",
       "<table border=\"1\" class=\"dataframe\">\n",
       "  <thead>\n",
       "    <tr style=\"text-align: right;\">\n",
       "      <th></th>\n",
       "      <th>age</th>\n",
       "      <th>age_group</th>\n",
       "      <th>marital</th>\n",
       "      <th>education</th>\n",
       "    </tr>\n",
       "  </thead>\n",
       "  <tbody>\n",
       "    <tr>\n",
       "      <th>0</th>\n",
       "      <td>59</td>\n",
       "      <td>Paruh Baya</td>\n",
       "      <td>1</td>\n",
       "      <td>1.0</td>\n",
       "    </tr>\n",
       "    <tr>\n",
       "      <th>1</th>\n",
       "      <td>56</td>\n",
       "      <td>Paruh Baya</td>\n",
       "      <td>1</td>\n",
       "      <td>1.0</td>\n",
       "    </tr>\n",
       "    <tr>\n",
       "      <th>2</th>\n",
       "      <td>41</td>\n",
       "      <td>Dewasa</td>\n",
       "      <td>1</td>\n",
       "      <td>1.0</td>\n",
       "    </tr>\n",
       "    <tr>\n",
       "      <th>3</th>\n",
       "      <td>55</td>\n",
       "      <td>Paruh Baya</td>\n",
       "      <td>1</td>\n",
       "      <td>1.0</td>\n",
       "    </tr>\n",
       "    <tr>\n",
       "      <th>4</th>\n",
       "      <td>54</td>\n",
       "      <td>Paruh Baya</td>\n",
       "      <td>1</td>\n",
       "      <td>2.0</td>\n",
       "    </tr>\n",
       "  </tbody>\n",
       "</table>\n",
       "</div>"
      ],
      "text/plain": [
       "   age   age_group  marital  education\n",
       "0   59  Paruh Baya        1        1.0\n",
       "1   56  Paruh Baya        1        1.0\n",
       "2   41      Dewasa        1        1.0\n",
       "3   55  Paruh Baya        1        1.0\n",
       "4   54  Paruh Baya        1        2.0"
      ]
     },
     "execution_count": 11,
     "metadata": {},
     "output_type": "execute_result"
    }
   ],
   "source": [
    "df_processed = df.copy()\n",
    "\n",
    "df_processed = pd.get_dummies(df_processed, columns=['job'])\n",
    "\n",
    "label_encoder = LabelEncoder()\n",
    "df_processed['marital'] = label_encoder.fit_transform(df_processed['marital'])\n",
    "\n",
    "education_order = [['primary', 'secondary', 'tertiary', 'unknown']]\n",
    "ordinal_encoder = OrdinalEncoder(categories=education_order)\n",
    "df_processed['education'] = ordinal_encoder.fit_transform(df_processed[['education']])\n",
    "\n",
    "bins = [0, 30, 45, 60, np.inf]\n",
    "labels = ['Muda', 'Dewasa', 'Paruh Baya', 'Lanjut Usia']\n",
    "df_processed['age_group'] = pd.cut(df_processed['age'], bins=bins, labels=labels)\n",
    "\n",
    "df_processed[['age', 'age_group', 'marital', 'education']].head()\n"
   ]
  },
  {
   "cell_type": "code",
   "execution_count": 4,
   "id": "c759aee5",
   "metadata": {},
   "outputs": [
    {
     "data": {
      "application/vnd.microsoft.datawrangler.viewer.v0+json": {
       "columns": [
        {
         "name": "index",
         "rawType": "int64",
         "type": "integer"
        },
        {
         "name": "balance",
         "rawType": "int64",
         "type": "integer"
        },
        {
         "name": "balance_minmax",
         "rawType": "float64",
         "type": "float"
        },
        {
         "name": "duration",
         "rawType": "int64",
         "type": "integer"
        },
        {
         "name": "duration_zscore",
         "rawType": "float64",
         "type": "float"
        },
        {
         "name": "campaign",
         "rawType": "int64",
         "type": "integer"
        },
        {
         "name": "campaign_decimal",
         "rawType": "float64",
         "type": "float"
        }
       ],
       "conversionMethod": "pd.DataFrame",
       "ref": "dc7e6bfb-99a7-4510-9d11-d6614a413b60",
       "rows": [
        [
         "0",
         "2343",
         "0.1043713302517859",
         "1042",
         "1.9302258878699303",
         "1",
         "0.01"
        ],
        [
         "1",
         "45",
         "0.07827281916162224",
         "1467",
         "3.1546116096227013",
         "1",
         "0.01"
        ],
        [
         "2",
         "1270",
         "0.09218521084371557",
         "1389",
         "2.92990081833631",
         "1",
         "0.01"
        ],
        [
         "3",
         "2476",
         "0.10588181849155603",
         "579",
         "0.5963656780545586",
         "1",
         "0.01"
        ],
        [
         "4",
         "184",
         "0.07985144972799854",
         "673",
         "0.8671709906304655",
         "2",
         "0.02"
        ]
       ],
       "shape": {
        "columns": 6,
        "rows": 5
       }
      },
      "text/html": [
       "<div>\n",
       "<style scoped>\n",
       "    .dataframe tbody tr th:only-of-type {\n",
       "        vertical-align: middle;\n",
       "    }\n",
       "\n",
       "    .dataframe tbody tr th {\n",
       "        vertical-align: top;\n",
       "    }\n",
       "\n",
       "    .dataframe thead th {\n",
       "        text-align: right;\n",
       "    }\n",
       "</style>\n",
       "<table border=\"1\" class=\"dataframe\">\n",
       "  <thead>\n",
       "    <tr style=\"text-align: right;\">\n",
       "      <th></th>\n",
       "      <th>balance</th>\n",
       "      <th>balance_minmax</th>\n",
       "      <th>duration</th>\n",
       "      <th>duration_zscore</th>\n",
       "      <th>campaign</th>\n",
       "      <th>campaign_decimal</th>\n",
       "    </tr>\n",
       "  </thead>\n",
       "  <tbody>\n",
       "    <tr>\n",
       "      <th>0</th>\n",
       "      <td>2343</td>\n",
       "      <td>0.104371</td>\n",
       "      <td>1042</td>\n",
       "      <td>1.930226</td>\n",
       "      <td>1</td>\n",
       "      <td>0.01</td>\n",
       "    </tr>\n",
       "    <tr>\n",
       "      <th>1</th>\n",
       "      <td>45</td>\n",
       "      <td>0.078273</td>\n",
       "      <td>1467</td>\n",
       "      <td>3.154612</td>\n",
       "      <td>1</td>\n",
       "      <td>0.01</td>\n",
       "    </tr>\n",
       "    <tr>\n",
       "      <th>2</th>\n",
       "      <td>1270</td>\n",
       "      <td>0.092185</td>\n",
       "      <td>1389</td>\n",
       "      <td>2.929901</td>\n",
       "      <td>1</td>\n",
       "      <td>0.01</td>\n",
       "    </tr>\n",
       "    <tr>\n",
       "      <th>3</th>\n",
       "      <td>2476</td>\n",
       "      <td>0.105882</td>\n",
       "      <td>579</td>\n",
       "      <td>0.596366</td>\n",
       "      <td>1</td>\n",
       "      <td>0.01</td>\n",
       "    </tr>\n",
       "    <tr>\n",
       "      <th>4</th>\n",
       "      <td>184</td>\n",
       "      <td>0.079851</td>\n",
       "      <td>673</td>\n",
       "      <td>0.867171</td>\n",
       "      <td>2</td>\n",
       "      <td>0.02</td>\n",
       "    </tr>\n",
       "  </tbody>\n",
       "</table>\n",
       "</div>"
      ],
      "text/plain": [
       "   balance  balance_minmax  duration  duration_zscore  campaign  \\\n",
       "0     2343        0.104371      1042         1.930226         1   \n",
       "1       45        0.078273      1467         3.154612         1   \n",
       "2     1270        0.092185      1389         2.929901         1   \n",
       "3     2476        0.105882       579         0.596366         1   \n",
       "4      184        0.079851       673         0.867171         2   \n",
       "\n",
       "   campaign_decimal  \n",
       "0              0.01  \n",
       "1              0.01  \n",
       "2              0.01  \n",
       "3              0.01  \n",
       "4              0.02  "
      ]
     },
     "execution_count": 4,
     "metadata": {},
     "output_type": "execute_result"
    }
   ],
   "source": [
    "from sklearn.preprocessing import MinMaxScaler, StandardScaler\n",
    "\n",
    "# Min-Max Scaling pada 'balance'\n",
    "min_max_scaler = MinMaxScaler()\n",
    "df_processed['balance_minmax'] = min_max_scaler.fit_transform(df_processed[['balance']])\n",
    "\n",
    "# Z-Score Scaling pada 'duration'\n",
    "zscore_scaler = StandardScaler()\n",
    "df_processed['duration_zscore'] = zscore_scaler.fit_transform(df_processed[['duration']])\n",
    "\n",
    "# Decimal Scaling pada 'campaign'\n",
    "max_abs_campaign = df_processed['campaign'].abs().max()\n",
    "scaling_factor = 10 ** len(str(int(max_abs_campaign)))\n",
    "df_processed['campaign_decimal'] = df_processed['campaign'] / scaling_factor\n",
    "\n",
    "# Tampilkan hasil normalisasi\n",
    "df_processed[['balance', 'balance_minmax', 'duration', 'duration_zscore', 'campaign', 'campaign_decimal']].head()\n"
   ]
  },
  {
   "cell_type": "code",
   "execution_count": 6,
   "id": "5926b0dd",
   "metadata": {},
   "outputs": [
    {
     "data": {
      "image/png": "[encoded data removed]",
      "text/plain": [
       "<Figure size 1000x600 with 1 Axes>"
      ]
     },
     "metadata": {},
     "output_type": "display_data"
    },
    {
     "data": {
      "text/plain": [
       "duration           0.451919\n",
       "duration_zscore    0.451919\n",
       "pdays              0.151593\n",
       "previous           0.139867\n",
       "job_retired        0.103827\n",
       "job_student        0.099953\n",
       "education          0.095948\n",
       "balance_minmax     0.081129\n",
       "balance            0.081129\n",
       "marital            0.067610\n",
       "Name: deposit, dtype: float64"
      ]
     },
     "execution_count": 6,
     "metadata": {},
     "output_type": "execute_result"
    }
   ],
   "source": [
    "import seaborn as sns\n",
    "import matplotlib.pyplot as plt\n",
    "\n",
    "# Encode target 'deposit' menjadi numerik: yes = 1, no = 0\n",
    "df_processed['deposit'] = df_processed['deposit'].map({'yes': 1, 'no': 0})\n",
    "\n",
    "# Hitung korelasi semua fitur numerik terhadap target 'deposit'\n",
    "correlations = df_processed.corr(numeric_only=True)['deposit'].sort_values(ascending=False)\n",
    "\n",
    "# Tampilkan fitur dengan korelasi tertinggi (positif dan negatif)\n",
    "top_correlated_features = correlations.drop('deposit').head(10)\n",
    "\n",
    "# Visualisasi korelasi\n",
    "plt.figure(figsize=(10, 6))\n",
    "sns.barplot(x=top_correlated_features.values, y=top_correlated_features.index)\n",
    "plt.title('Top 10 Fitur dengan Korelasi Tertinggi terhadap Target (deposit)')\n",
    "plt.xlabel('Korelasi')\n",
    "plt.ylabel('Fitur')\n",
    "plt.grid(True)\n",
    "plt.tight_layout()\n",
    "plt.show()\n",
    "\n",
    "top_correlated_features\n"
   ]
  },
  {
   "cell_type": "code",
   "execution_count": 7,
   "id": "f92c5986",
   "metadata": {},
   "outputs": [
    {
     "data": {
      "application/vnd.microsoft.datawrangler.viewer.v0+json": {
       "columns": [
        {
         "name": "index",
         "rawType": "int64",
         "type": "integer"
        },
        {
         "name": "PCA_1",
         "rawType": "float64",
         "type": "float"
        },
        {
         "name": "PCA_2",
         "rawType": "float64",
         "type": "float"
        },
        {
         "name": "PCA_3",
         "rawType": "float64",
         "type": "float"
        },
        {
         "name": "PCA_4",
         "rawType": "float64",
         "type": "float"
        },
        {
         "name": "PCA_5",
         "rawType": "float64",
         "type": "float"
        }
       ],
       "conversionMethod": "pd.DataFrame",
       "ref": "093a6089-0f38-4298-b7a3-eaa2e5d27ffd",
       "rows": [
        [
         "0",
         "-2.17608462419734",
         "0.2829360315173002",
         "2.024824722361512",
         "-1.3087774192724866",
         "0.3189461466179633"
        ],
        [
         "1",
         "-2.6076684262489223",
         "-0.53335202766669",
         "3.784583164786976",
         "-1.134748543609787",
         "0.5912038689605433"
        ],
        [
         "2",
         "-2.599139728973185",
         "-0.30046865213486706",
         "3.4223326927952313",
         "-0.4013715737426455",
         "0.08609678098273434"
        ],
        [
         "3",
         "-1.2686009533664901",
         "0.17792279448719558",
         "0.3991364585516578",
         "-1.2589556857728736",
         "-0.023932566874849508"
        ],
        [
         "4",
         "-0.6959931794543528",
         "-0.4121604252468272",
         "1.1018325652993453",
         "-0.7487387275179236",
         "0.06851965862060408"
        ]
       ],
       "shape": {
        "columns": 5,
        "rows": 5
       }
      },
      "text/html": [
       "<div>\n",
       "<style scoped>\n",
       "    .dataframe tbody tr th:only-of-type {\n",
       "        vertical-align: middle;\n",
       "    }\n",
       "\n",
       "    .dataframe tbody tr th {\n",
       "        vertical-align: top;\n",
       "    }\n",
       "\n",
       "    .dataframe thead th {\n",
       "        text-align: right;\n",
       "    }\n",
       "</style>\n",
       "<table border=\"1\" class=\"dataframe\">\n",
       "  <thead>\n",
       "    <tr style=\"text-align: right;\">\n",
       "      <th></th>\n",
       "      <th>PCA_1</th>\n",
       "      <th>PCA_2</th>\n",
       "      <th>PCA_3</th>\n",
       "      <th>PCA_4</th>\n",
       "      <th>PCA_5</th>\n",
       "    </tr>\n",
       "  </thead>\n",
       "  <tbody>\n",
       "    <tr>\n",
       "      <th>0</th>\n",
       "      <td>-2.176085</td>\n",
       "      <td>0.282936</td>\n",
       "      <td>2.024825</td>\n",
       "      <td>-1.308777</td>\n",
       "      <td>0.318946</td>\n",
       "    </tr>\n",
       "    <tr>\n",
       "      <th>1</th>\n",
       "      <td>-2.607668</td>\n",
       "      <td>-0.533352</td>\n",
       "      <td>3.784583</td>\n",
       "      <td>-1.134749</td>\n",
       "      <td>0.591204</td>\n",
       "    </tr>\n",
       "    <tr>\n",
       "      <th>2</th>\n",
       "      <td>-2.599140</td>\n",
       "      <td>-0.300469</td>\n",
       "      <td>3.422333</td>\n",
       "      <td>-0.401372</td>\n",
       "      <td>0.086097</td>\n",
       "    </tr>\n",
       "    <tr>\n",
       "      <th>3</th>\n",
       "      <td>-1.268601</td>\n",
       "      <td>0.177923</td>\n",
       "      <td>0.399136</td>\n",
       "      <td>-1.258956</td>\n",
       "      <td>-0.023933</td>\n",
       "    </tr>\n",
       "    <tr>\n",
       "      <th>4</th>\n",
       "      <td>-0.695993</td>\n",
       "      <td>-0.412160</td>\n",
       "      <td>1.101833</td>\n",
       "      <td>-0.748739</td>\n",
       "      <td>0.068520</td>\n",
       "    </tr>\n",
       "  </tbody>\n",
       "</table>\n",
       "</div>"
      ],
      "text/plain": [
       "      PCA_1     PCA_2     PCA_3     PCA_4     PCA_5\n",
       "0 -2.176085  0.282936  2.024825 -1.308777  0.318946\n",
       "1 -2.607668 -0.533352  3.784583 -1.134749  0.591204\n",
       "2 -2.599140 -0.300469  3.422333 -0.401372  0.086097\n",
       "3 -1.268601  0.177923  0.399136 -1.258956 -0.023933\n",
       "4 -0.695993 -0.412160  1.101833 -0.748739  0.068520"
      ]
     },
     "execution_count": 7,
     "metadata": {},
     "output_type": "execute_result"
    }
   ],
   "source": [
    "from sklearn.decomposition import PCA\n",
    "from sklearn.preprocessing import StandardScaler\n",
    "\n",
    "# Pilih hanya fitur numerik untuk PCA\n",
    "numeric_features = df_processed.select_dtypes(include=[np.number]).drop(columns=['deposit'])\n",
    "\n",
    "# Standarisasi fitur numerik sebelum PCA\n",
    "scaler = StandardScaler()\n",
    "scaled_features = scaler.fit_transform(numeric_features)\n",
    "\n",
    "# PCA untuk mereduksi menjadi 5 fitur utama\n",
    "pca = PCA(n_components=5)\n",
    "pca_components = pca.fit_transform(scaled_features)\n",
    "\n",
    "# Simpan hasil PCA ke dataframe\n",
    "pca_df = pd.DataFrame(pca_components, columns=[f'PCA_{i+1}' for i in range(5)])\n",
    "pca_df.head()\n"
   ]
  },
  {
   "cell_type": "code",
   "execution_count": 8,
   "id": "72f82136",
   "metadata": {},
   "outputs": [
    {
     "data": {
      "text/plain": [
       "(deposit\n",
       " 0    0.526174\n",
       " 1    0.473826\n",
       " Name: proportion, dtype: float64,\n",
       " deposit\n",
       " 0    0.526284\n",
       " 1    0.473716\n",
       " Name: proportion, dtype: float64,\n",
       " deposit\n",
       " 0    0.52597\n",
       " 1    0.47403\n",
       " Name: proportion, dtype: float64)"
      ]
     },
     "execution_count": 8,
     "metadata": {},
     "output_type": "execute_result"
    }
   ],
   "source": [
    "from sklearn.model_selection import train_test_split\n",
    "\n",
    "# Gabungkan fitur hasil PCA dan target\n",
    "final_df = pca_df.copy()\n",
    "final_df['deposit'] = df_processed['deposit']\n",
    "\n",
    "# Pisahkan fitur dan target\n",
    "X = final_df.drop(columns='deposit')\n",
    "y = final_df['deposit']\n",
    "\n",
    "# Split Train (70%) dan Temp (30%) dengan stratifikasi\n",
    "X_train, X_temp, y_train, y_temp = train_test_split(\n",
    "    X, y, test_size=0.3, random_state=42, stratify=y\n",
    ")\n",
    "\n",
    "# Split Temp menjadi Validation (15%) dan Test (15%) → dari total data\n",
    "X_val, X_test, y_val, y_test = train_test_split(\n",
    "    X_temp, y_temp, test_size=0.5, random_state=42, stratify=y_temp\n",
    ")\n",
    "\n",
    "# Cek distribusi target di tiap subset\n",
    "train_dist = y_train.value_counts(normalize=True)\n",
    "val_dist = y_val.value_counts(normalize=True)\n",
    "test_dist = y_test.value_counts(normalize=True)\n",
    "\n",
    "train_dist, val_dist, test_dist\n"
   ]
  },
  {
   "cell_type": "code",
   "execution_count": 9,
   "id": "93128b7e",
   "metadata": {},
   "outputs": [
    {
     "data": {
      "image/png": "[encoded data removed]",
      "text/plain": [
       "<Figure size 1500x500 with 3 Axes>"
      ]
     },
     "metadata": {},
     "output_type": "display_data"
    }
   ],
   "source": [
    "import matplotlib.pyplot as plt\n",
    "\n",
    "# Visualisasi distribusi target di tiap subset\n",
    "fig, axes = plt.subplots(1, 3, figsize=(15, 5), sharey=True)\n",
    "\n",
    "datasets = {'Train': y_train, 'Validation': y_val, 'Test': y_test}\n",
    "colors = ['skyblue', 'salmon']\n",
    "\n",
    "for ax, (name, data) in zip(axes, datasets.items()):\n",
    "    data.value_counts(normalize=True).plot(\n",
    "        kind='bar',\n",
    "        ax=ax,\n",
    "        color=colors,\n",
    "        title=f'{name} Set\\nDistribusi Target (deposit)',\n",
    "        rot=0\n",
    "    )\n",
    "    ax.set_ylabel('Proporsi')\n",
    "    ax.set_xticklabels(['No', 'Yes'])\n",
    "\n",
    "plt.tight_layout()\n",
    "plt.show()\n"
   ]
  }
 ],
 "metadata": {
  "kernelspec": {
   "display_name": ".venv",
   "language": "python",
   "name": "python3"
  },
  "language_info": {
   "codemirror_mode": {
    "name": "ipython",
    "version": 3
   },
   "file_extension": ".py",
   "mimetype": "text/x-python",
   "name": "python",
   "nbconvert_exporter": "python",
   "pygments_lexer": "ipython3",
   "version": "3.12.3"
  }
 },
 "nbformat": 4,
 "nbformat_minor": 5
}
