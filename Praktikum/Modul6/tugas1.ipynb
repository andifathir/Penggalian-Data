{
 "cells": [
  {
   "cell_type": "code",
   "execution_count": 4,
   "id": "4f9d86ba",
   "metadata": {},
   "outputs": [],
   "source": [
    "# Import library\n",
    "import pandas as pd\n",
    "import numpy as np\n",
    "import matplotlib.pyplot as plt\n",
    "import seaborn as sns\n",
    "from sklearn.preprocessing import StandardScaler\n",
    "from scipy.spatial.distance import cdist\n"
   ]
  },
  {
   "cell_type": "code",
   "execution_count": 5,
   "id": "81b05636",
   "metadata": {},
   "outputs": [
    {
     "name": "stdout",
     "output_type": "stream",
     "text": [
      "5 baris data pertama:\n"
     ]
    },
    {
     "data": {
      "application/vnd.microsoft.datawrangler.viewer.v0+json": {
       "columns": [
        {
         "name": "index",
         "rawType": "int64",
         "type": "integer"
        },
        {
         "name": "game_name",
         "rawType": "object",
         "type": "string"
        },
        {
         "name": "meta_score",
         "rawType": "float64",
         "type": "float"
        },
        {
         "name": "user_score",
         "rawType": "float64",
         "type": "float"
        },
        {
         "name": "platform",
         "rawType": "object",
         "type": "string"
        },
        {
         "name": "description",
         "rawType": "object",
         "type": "string"
        },
        {
         "name": "url",
         "rawType": "object",
         "type": "string"
        },
        {
         "name": "developer",
         "rawType": "object",
         "type": "string"
        },
        {
         "name": "genre",
         "rawType": "object",
         "type": "string"
        },
        {
         "name": "type",
         "rawType": "object",
         "type": "string"
        },
        {
         "name": "rating",
         "rawType": "object",
         "type": "string"
        }
       ],
       "ref": "ece8da48-3449-4986-828b-e5b6721fa120",
       "rows": [
        [
         "0",
         "The Legend of Zelda: Ocarina of Time",
         "99.0",
         "91.0",
         "['nintendo-64']",
         "As a young boy, Link is tricked by Ganondorf, the King of the Gerudo Thieves. The evil human uses Link to gain access to the Sacred Realm, where he places his tainted hands on Triforce and transforms the beautiful Hyrulean landscape into a barren wasteland. Link is determined to fix the problems he helped to create, so with the help of Rauru he travels through time gathering the powers of the Seven Sages.",
         "https://www.metacritic.com/game/nintendo-64/the-legend-of-zelda-ocarina-of-time",
         "Nintendo",
         "['Action Adventure', 'Fantasy']",
         "singleplayer",
         "E"
        ],
        [
         "1",
         "Super Mario Galaxy",
         "97.0",
         "91.0",
         "['wii']",
         "[Metacritic's 2007 Wii Game of the Year] The ultimate Nintendo hero is taking the ultimate step ... out into space. Join Mario as he ushers in a new era of video games, defying gravity across all the planets in the galaxy. When some creature escapes into space with Princess Peach, Mario gives chase, exploring bizarre planets all across the galaxy. Mario, Peach and enemies new and old are here. Players run, jump and battle enemies as they explore all the planets in the galaxy. Since this game makes full use of all the features of the Wii Remote, players have to do all kinds of things to succeed: pressing buttons, swinging the Wii Remote and the Nunchuk, and even pointing at and dragging things with the pointer. Since he's in space, Mario can perform mind-bending jumps unlike anything he's done before. He'll also have a wealth of new moves that are all based around tilting, pointing and shaking the Wii Remote. Shake, tilt and point! Mario takes advantage of all the unique aspects of the Wii Remote and Nunchuk controller, unleashing new moves as players shake the controller and even point at and drag items with the pointer. [Nintendo]",
         "https://www.metacritic.com/game/wii/super-mario-galaxy",
         "Nintendo",
         "['Action', 'Platformer', '3D']",
         "singleplayer",
         "E"
        ],
        [
         "2",
         "Super Mario Galaxy 2",
         "97.0",
         "91.0",
         "['wii']",
         "Super Mario Galaxy 2, the sequel to the galaxy-hopping original game, includes the gravity-defying, physics-based exploration from the first game, but is loaded with entirely new galaxies and features to challenge players. On some stages, Mario can pair up with his dinosaur buddy Yoshi and use his tongue to grab items and spit them back at enemies. Players can also have fun with new items such as a drill that lets our hero tunnel through solid rock. [Nintendo]",
         "https://www.metacritic.com/game/wii/super-mario-galaxy-2",
         "Nintendo EAD Tokyo ",
         "['Action', 'Platformer', '3D']",
         "singleplayer",
         "E"
        ],
        [
         "3",
         "Metroid Prime",
         "97.0",
         "89.0",
         "['gamecube']",
         "Samus returns in a new mission to unravel the mystery behind the ruined walls scattered across Tallon IV. In Metroid Prime, you'll play the role of this bounty hunter and view the world through her visor, which displays information ranging from current energy levels to ammunition. Equipped with a Power Beam and Gravity Suit, you must shoot locked switches, solve puzzles, and eliminate enemies. It's up to you to explore the world and recover more power-ups and weapons, which gradually open more gameplay areas.",
         "https://www.metacritic.com/game/gamecube/metroid-prime",
         "Retro Studios",
         "['Action', 'Shooter', 'First-Person', 'Sci-Fi']",
         "singleplayer",
         "T"
        ],
        [
         "4",
         "Super Mario Odyssey",
         "97.0",
         "89.0",
         "['switch']",
         "New Evolution of Mario Sandbox-Style Gameplay. Mario embarks on a new journey through unknown worlds, running and jumping through huge 3D worlds in the first sandbox-style Mario game since Super Mario 64 and Super Mario Sunshine. Set sail between expansive worlds aboard an airship, and perform all-new actions, such as throwing Mario's cap.",
         "https://www.metacritic.com/game/switch/super-mario-odyssey",
         "Nintendo",
         "['Action', 'Platformer', '3D']",
         "singleplayer",
         "E10+"
        ]
       ],
       "shape": {
        "columns": 10,
        "rows": 5
       }
      },
      "text/html": [
       "<div>\n",
       "<style scoped>\n",
       "    .dataframe tbody tr th:only-of-type {\n",
       "        vertical-align: middle;\n",
       "    }\n",
       "\n",
       "    .dataframe tbody tr th {\n",
       "        vertical-align: top;\n",
       "    }\n",
       "\n",
       "    .dataframe thead th {\n",
       "        text-align: right;\n",
       "    }\n",
       "</style>\n",
       "<table border=\"1\" class=\"dataframe\">\n",
       "  <thead>\n",
       "    <tr style=\"text-align: right;\">\n",
       "      <th></th>\n",
       "      <th>game_name</th>\n",
       "      <th>meta_score</th>\n",
       "      <th>user_score</th>\n",
       "      <th>platform</th>\n",
       "      <th>description</th>\n",
       "      <th>url</th>\n",
       "      <th>developer</th>\n",
       "      <th>genre</th>\n",
       "      <th>type</th>\n",
       "      <th>rating</th>\n",
       "    </tr>\n",
       "  </thead>\n",
       "  <tbody>\n",
       "    <tr>\n",
       "      <th>0</th>\n",
       "      <td>The Legend of Zelda: Ocarina of Time</td>\n",
       "      <td>99.0</td>\n",
       "      <td>91.0</td>\n",
       "      <td>['nintendo-64']</td>\n",
       "      <td>As a young boy, Link is tricked by Ganondorf, ...</td>\n",
       "      <td>https://www.metacritic.com/game/nintendo-64/th...</td>\n",
       "      <td>Nintendo</td>\n",
       "      <td>['Action Adventure', 'Fantasy']</td>\n",
       "      <td>singleplayer</td>\n",
       "      <td>E</td>\n",
       "    </tr>\n",
       "    <tr>\n",
       "      <th>1</th>\n",
       "      <td>Super Mario Galaxy</td>\n",
       "      <td>97.0</td>\n",
       "      <td>91.0</td>\n",
       "      <td>['wii']</td>\n",
       "      <td>[Metacritic's 2007 Wii Game of the Year] The u...</td>\n",
       "      <td>https://www.metacritic.com/game/wii/super-mari...</td>\n",
       "      <td>Nintendo</td>\n",
       "      <td>['Action', 'Platformer', '3D']</td>\n",
       "      <td>singleplayer</td>\n",
       "      <td>E</td>\n",
       "    </tr>\n",
       "    <tr>\n",
       "      <th>2</th>\n",
       "      <td>Super Mario Galaxy 2</td>\n",
       "      <td>97.0</td>\n",
       "      <td>91.0</td>\n",
       "      <td>['wii']</td>\n",
       "      <td>Super Mario Galaxy 2, the sequel to the galaxy...</td>\n",
       "      <td>https://www.metacritic.com/game/wii/super-mari...</td>\n",
       "      <td>Nintendo EAD Tokyo</td>\n",
       "      <td>['Action', 'Platformer', '3D']</td>\n",
       "      <td>singleplayer</td>\n",
       "      <td>E</td>\n",
       "    </tr>\n",
       "    <tr>\n",
       "      <th>3</th>\n",
       "      <td>Metroid Prime</td>\n",
       "      <td>97.0</td>\n",
       "      <td>89.0</td>\n",
       "      <td>['gamecube']</td>\n",
       "      <td>Samus returns in a new mission to unravel the ...</td>\n",
       "      <td>https://www.metacritic.com/game/gamecube/metro...</td>\n",
       "      <td>Retro Studios</td>\n",
       "      <td>['Action', 'Shooter', 'First-Person', 'Sci-Fi']</td>\n",
       "      <td>singleplayer</td>\n",
       "      <td>T</td>\n",
       "    </tr>\n",
       "    <tr>\n",
       "      <th>4</th>\n",
       "      <td>Super Mario Odyssey</td>\n",
       "      <td>97.0</td>\n",
       "      <td>89.0</td>\n",
       "      <td>['switch']</td>\n",
       "      <td>New Evolution of Mario Sandbox-Style Gameplay....</td>\n",
       "      <td>https://www.metacritic.com/game/switch/super-m...</td>\n",
       "      <td>Nintendo</td>\n",
       "      <td>['Action', 'Platformer', '3D']</td>\n",
       "      <td>singleplayer</td>\n",
       "      <td>E10+</td>\n",
       "    </tr>\n",
       "  </tbody>\n",
       "</table>\n",
       "</div>"
      ],
      "text/plain": [
       "                              game_name  meta_score  user_score  \\\n",
       "0  The Legend of Zelda: Ocarina of Time        99.0        91.0   \n",
       "1                    Super Mario Galaxy        97.0        91.0   \n",
       "2                  Super Mario Galaxy 2        97.0        91.0   \n",
       "3                         Metroid Prime        97.0        89.0   \n",
       "4                   Super Mario Odyssey        97.0        89.0   \n",
       "\n",
       "          platform                                        description  \\\n",
       "0  ['nintendo-64']  As a young boy, Link is tricked by Ganondorf, ...   \n",
       "1          ['wii']  [Metacritic's 2007 Wii Game of the Year] The u...   \n",
       "2          ['wii']  Super Mario Galaxy 2, the sequel to the galaxy...   \n",
       "3     ['gamecube']  Samus returns in a new mission to unravel the ...   \n",
       "4       ['switch']  New Evolution of Mario Sandbox-Style Gameplay....   \n",
       "\n",
       "                                                 url            developer  \\\n",
       "0  https://www.metacritic.com/game/nintendo-64/th...             Nintendo   \n",
       "1  https://www.metacritic.com/game/wii/super-mari...             Nintendo   \n",
       "2  https://www.metacritic.com/game/wii/super-mari...  Nintendo EAD Tokyo    \n",
       "3  https://www.metacritic.com/game/gamecube/metro...        Retro Studios   \n",
       "4  https://www.metacritic.com/game/switch/super-m...             Nintendo   \n",
       "\n",
       "                                             genre          type rating  \n",
       "0                  ['Action Adventure', 'Fantasy']  singleplayer      E  \n",
       "1                   ['Action', 'Platformer', '3D']  singleplayer      E  \n",
       "2                   ['Action', 'Platformer', '3D']  singleplayer      E  \n",
       "3  ['Action', 'Shooter', 'First-Person', 'Sci-Fi']  singleplayer      T  \n",
       "4                   ['Action', 'Platformer', '3D']  singleplayer   E10+  "
      ]
     },
     "metadata": {},
     "output_type": "display_data"
    },
    {
     "name": "stdout",
     "output_type": "stream",
     "text": [
      "\n",
      "Info dataset:\n",
      "<class 'pandas.core.frame.DataFrame'>\n",
      "RangeIndex: 2000 entries, 0 to 1999\n",
      "Data columns (total 10 columns):\n",
      " #   Column       Non-Null Count  Dtype  \n",
      "---  ------       --------------  -----  \n",
      " 0   game_name    2000 non-null   object \n",
      " 1   meta_score   2000 non-null   float64\n",
      " 2   user_score   2000 non-null   float64\n",
      " 3   platform     2000 non-null   object \n",
      " 4   description  1980 non-null   object \n",
      " 5   url          2000 non-null   object \n",
      " 6   developer    1998 non-null   object \n",
      " 7   genre        1999 non-null   object \n",
      " 8   type         1571 non-null   object \n",
      " 9   rating       1696 non-null   object \n",
      "dtypes: float64(2), object(8)\n",
      "memory usage: 156.4+ KB\n",
      "None\n",
      "\n",
      "Statistik deskriptif:\n"
     ]
    },
    {
     "data": {
      "application/vnd.microsoft.datawrangler.viewer.v0+json": {
       "columns": [
        {
         "name": "index",
         "rawType": "object",
         "type": "string"
        },
        {
         "name": "meta_score",
         "rawType": "float64",
         "type": "float"
        },
        {
         "name": "user_score",
         "rawType": "float64",
         "type": "float"
        }
       ],
       "ref": "8405288d-a7e0-4ec0-8088-ef7f326c3dab",
       "rows": [
        [
         "count",
         "2000.0",
         "2000.0"
        ],
        [
         "mean",
         "80.854",
         "76.765"
        ],
        [
         "std",
         "5.1793915712682175",
         "10.225803563987753"
        ],
        [
         "min",
         "74.0",
         "12.0"
        ],
        [
         "25%",
         "77.0",
         "73.0"
        ],
        [
         "50%",
         "80.0",
         "78.0"
        ],
        [
         "75%",
         "83.0",
         "84.0"
        ],
        [
         "max",
         "99.0",
         "92.0"
        ]
       ],
       "shape": {
        "columns": 2,
        "rows": 8
       }
      },
      "text/html": [
       "<div>\n",
       "<style scoped>\n",
       "    .dataframe tbody tr th:only-of-type {\n",
       "        vertical-align: middle;\n",
       "    }\n",
       "\n",
       "    .dataframe tbody tr th {\n",
       "        vertical-align: top;\n",
       "    }\n",
       "\n",
       "    .dataframe thead th {\n",
       "        text-align: right;\n",
       "    }\n",
       "</style>\n",
       "<table border=\"1\" class=\"dataframe\">\n",
       "  <thead>\n",
       "    <tr style=\"text-align: right;\">\n",
       "      <th></th>\n",
       "      <th>meta_score</th>\n",
       "      <th>user_score</th>\n",
       "    </tr>\n",
       "  </thead>\n",
       "  <tbody>\n",
       "    <tr>\n",
       "      <th>count</th>\n",
       "      <td>2000.000000</td>\n",
       "      <td>2000.000000</td>\n",
       "    </tr>\n",
       "    <tr>\n",
       "      <th>mean</th>\n",
       "      <td>80.854000</td>\n",
       "      <td>76.765000</td>\n",
       "    </tr>\n",
       "    <tr>\n",
       "      <th>std</th>\n",
       "      <td>5.179392</td>\n",
       "      <td>10.225804</td>\n",
       "    </tr>\n",
       "    <tr>\n",
       "      <th>min</th>\n",
       "      <td>74.000000</td>\n",
       "      <td>12.000000</td>\n",
       "    </tr>\n",
       "    <tr>\n",
       "      <th>25%</th>\n",
       "      <td>77.000000</td>\n",
       "      <td>73.000000</td>\n",
       "    </tr>\n",
       "    <tr>\n",
       "      <th>50%</th>\n",
       "      <td>80.000000</td>\n",
       "      <td>78.000000</td>\n",
       "    </tr>\n",
       "    <tr>\n",
       "      <th>75%</th>\n",
       "      <td>83.000000</td>\n",
       "      <td>84.000000</td>\n",
       "    </tr>\n",
       "    <tr>\n",
       "      <th>max</th>\n",
       "      <td>99.000000</td>\n",
       "      <td>92.000000</td>\n",
       "    </tr>\n",
       "  </tbody>\n",
       "</table>\n",
       "</div>"
      ],
      "text/plain": [
       "        meta_score   user_score\n",
       "count  2000.000000  2000.000000\n",
       "mean     80.854000    76.765000\n",
       "std       5.179392    10.225804\n",
       "min      74.000000    12.000000\n",
       "25%      77.000000    73.000000\n",
       "50%      80.000000    78.000000\n",
       "75%      83.000000    84.000000\n",
       "max      99.000000    92.000000"
      ]
     },
     "metadata": {},
     "output_type": "display_data"
    },
    {
     "name": "stdout",
     "output_type": "stream",
     "text": [
      "\n",
      "Jumlah missing values per kolom:\n",
      "game_name        0\n",
      "meta_score       0\n",
      "user_score       0\n",
      "platform         0\n",
      "description     20\n",
      "url              0\n",
      "developer        2\n",
      "genre            1\n",
      "type           429\n",
      "rating         304\n",
      "dtype: int64\n"
     ]
    }
   ],
   "source": [
    "# 1. Load data\n",
    "df = pd.read_csv('tugas_genap.csv')\n",
    "\n",
    "print(\"5 baris data pertama:\")\n",
    "display(df.head())\n",
    "\n",
    "print(\"\\nInfo dataset:\")\n",
    "print(df.info())\n",
    "\n",
    "print(\"\\nStatistik deskriptif:\")\n",
    "display(df.describe())\n",
    "\n",
    "print(\"\\nJumlah missing values per kolom:\")\n",
    "print(df.isnull().sum())\n"
   ]
  },
  {
   "cell_type": "code",
   "execution_count": 6,
   "id": "fb477fd1",
   "metadata": {},
   "outputs": [
    {
     "data": {
      "text/plain": [
       "<Figure size 1400x1000 with 0 Axes>"
      ]
     },
     "metadata": {},
     "output_type": "display_data"
    },
    {
     "data": {
      "image/png": "[encoded data removed]",
      "text/plain": [
       "<Figure size 1400x1000 with 3 Axes>"
      ]
     },
     "metadata": {},
     "output_type": "display_data"
    },
    {
     "data": {
      "image/png": "[encoded data removed]",
      "text/plain": [
       "<Figure size 1000x800 with 2 Axes>"
      ]
     },
     "metadata": {},
     "output_type": "display_data"
    }
   ],
   "source": [
    "# 2. Visualisasi Data\n",
    "\n",
    "# Histogram fitur numerik\n",
    "numerical_features = df.select_dtypes(include=[np.number]).columns.tolist()\n",
    "\n",
    "plt.figure(figsize=(14,10))\n",
    "df[numerical_features].hist(bins=20, layout=(len(numerical_features)//3+1,3), figsize=(14,10))\n",
    "plt.suptitle('Distribusi Fitur Numerik', y=1.02, fontsize=16)\n",
    "plt.show()\n",
    "\n",
    "# Heatmap korelasi\n",
    "plt.figure(figsize=(10,8))\n",
    "sns.heatmap(df[numerical_features].corr(), annot=True, cmap='coolwarm', fmt=\".2f\")\n",
    "plt.title('Heatmap Korelasi Fitur Numerik')\n",
    "plt.show()"
   ]
  },
  {
   "cell_type": "code",
   "execution_count": 7,
   "id": "ca0fd14a",
   "metadata": {},
   "outputs": [],
   "source": [
    "# 3. Persiapan data untuk model rekomendasi\n",
    "\n",
    "# Ambil fitur numerik sebagai vektor fitur\n",
    "features = df[numerical_features]\n",
    "\n",
    "# Standarisasi fitur agar jarak Euclidean optimal\n",
    "scaler = StandardScaler()\n",
    "features_scaled = scaler.fit_transform(features)\n",
    "\n",
    "# Hitung matriks jarak Euclidean antar item\n",
    "distance_matrix = cdist(features_scaled, features_scaled, metric='euclidean')\n"
   ]
  },
  {
   "cell_type": "code",
   "execution_count": 8,
   "id": "acb0b7c9",
   "metadata": {},
   "outputs": [
    {
     "name": "stdout",
     "output_type": "stream",
     "text": [
      "\n",
      "Rekomendasi 5 item terdekat untuk item index 0:\n"
     ]
    },
    {
     "data": {
      "application/vnd.microsoft.datawrangler.viewer.v0+json": {
       "columns": [
        {
         "name": "index",
         "rawType": "int64",
         "type": "integer"
        },
        {
         "name": "game_name",
         "rawType": "object",
         "type": "string"
        },
        {
         "name": "meta_score",
         "rawType": "float64",
         "type": "float"
        },
        {
         "name": "user_score",
         "rawType": "float64",
         "type": "float"
        },
        {
         "name": "platform",
         "rawType": "object",
         "type": "string"
        },
        {
         "name": "description",
         "rawType": "object",
         "type": "string"
        },
        {
         "name": "url",
         "rawType": "object",
         "type": "string"
        },
        {
         "name": "developer",
         "rawType": "object",
         "type": "string"
        },
        {
         "name": "genre",
         "rawType": "object",
         "type": "string"
        },
        {
         "name": "type",
         "rawType": "object",
         "type": "string"
        },
        {
         "name": "rating",
         "rawType": "object",
         "type": "string"
        }
       ],
       "ref": "e7fc730f-e420-413d-b0b6-844c4dc5b120",
       "rows": [
        [
         "1",
         "Super Mario Galaxy",
         "97.0",
         "91.0",
         "['wii']",
         "[Metacritic's 2007 Wii Game of the Year] The ultimate Nintendo hero is taking the ultimate step ... out into space. Join Mario as he ushers in a new era of video games, defying gravity across all the planets in the galaxy. When some creature escapes into space with Princess Peach, Mario gives chase, exploring bizarre planets all across the galaxy. Mario, Peach and enemies new and old are here. Players run, jump and battle enemies as they explore all the planets in the galaxy. Since this game makes full use of all the features of the Wii Remote, players have to do all kinds of things to succeed: pressing buttons, swinging the Wii Remote and the Nunchuk, and even pointing at and dragging things with the pointer. Since he's in space, Mario can perform mind-bending jumps unlike anything he's done before. He'll also have a wealth of new moves that are all based around tilting, pointing and shaking the Wii Remote. Shake, tilt and point! Mario takes advantage of all the unique aspects of the Wii Remote and Nunchuk controller, unleashing new moves as players shake the controller and even point at and drag items with the pointer. [Nintendo]",
         "https://www.metacritic.com/game/wii/super-mario-galaxy",
         "Nintendo",
         "['Action', 'Platformer', '3D']",
         "singleplayer",
         "E"
        ],
        [
         "2",
         "Super Mario Galaxy 2",
         "97.0",
         "91.0",
         "['wii']",
         "Super Mario Galaxy 2, the sequel to the galaxy-hopping original game, includes the gravity-defying, physics-based exploration from the first game, but is loaded with entirely new galaxies and features to challenge players. On some stages, Mario can pair up with his dinosaur buddy Yoshi and use his tongue to grab items and spit them back at enemies. Players can also have fun with new items such as a drill that lets our hero tunnel through solid rock. [Nintendo]",
         "https://www.metacritic.com/game/wii/super-mario-galaxy-2",
         "Nintendo EAD Tokyo ",
         "['Action', 'Platformer', '3D']",
         "singleplayer",
         "E"
        ],
        [
         "3",
         "Metroid Prime",
         "97.0",
         "89.0",
         "['gamecube']",
         "Samus returns in a new mission to unravel the mystery behind the ruined walls scattered across Tallon IV. In Metroid Prime, you'll play the role of this bounty hunter and view the world through her visor, which displays information ranging from current energy levels to ammunition. Equipped with a Power Beam and Gravity Suit, you must shoot locked switches, solve puzzles, and eliminate enemies. It's up to you to explore the world and recover more power-ups and weapons, which gradually open more gameplay areas.",
         "https://www.metacritic.com/game/gamecube/metroid-prime",
         "Retro Studios",
         "['Action', 'Shooter', 'First-Person', 'Sci-Fi']",
         "singleplayer",
         "T"
        ],
        [
         "4",
         "Super Mario Odyssey",
         "97.0",
         "89.0",
         "['switch']",
         "New Evolution of Mario Sandbox-Style Gameplay. Mario embarks on a new journey through unknown worlds, running and jumping through huge 3D worlds in the first sandbox-style Mario game since Super Mario 64 and Super Mario Sunshine. Set sail between expansive worlds aboard an airship, and perform all-new actions, such as throwing Mario's cap.",
         "https://www.metacritic.com/game/switch/super-mario-odyssey",
         "Nintendo",
         "['Action', 'Platformer', '3D']",
         "singleplayer",
         "E10+"
        ],
        [
         "5",
         "Halo: Combat Evolved",
         "97.0",
         "87.0",
         "['xbox']",
         "Enter the mysterious world of Halo, an alien planet shaped like a ring.  As mankind's super soldier Master Chief, you must uncover the secrets of Halo and fend off the attacking Covenant.  During your missions, you'll battle on foot, in vehicles, inside, and outside with alien and human weaponry.  Your objectives include attacking enemy outposts, raiding underground labs for advanced technology, rescuing fallen comrades, and sniping enemy forces.  Halo also lets you battle three other players via intense split screen combat or fight cooperatively with a friend through the single-player missions.",
         "https://www.metacritic.com/game/xbox/halo-combat-evolved",
         "Bungie Software",
         "['Action', 'Shooter', 'First-Person', 'Sci-Fi']",
         "multiplayer",
         "M"
        ]
       ],
       "shape": {
        "columns": 10,
        "rows": 5
       }
      },
      "text/html": [
       "<div>\n",
       "<style scoped>\n",
       "    .dataframe tbody tr th:only-of-type {\n",
       "        vertical-align: middle;\n",
       "    }\n",
       "\n",
       "    .dataframe tbody tr th {\n",
       "        vertical-align: top;\n",
       "    }\n",
       "\n",
       "    .dataframe thead th {\n",
       "        text-align: right;\n",
       "    }\n",
       "</style>\n",
       "<table border=\"1\" class=\"dataframe\">\n",
       "  <thead>\n",
       "    <tr style=\"text-align: right;\">\n",
       "      <th></th>\n",
       "      <th>game_name</th>\n",
       "      <th>meta_score</th>\n",
       "      <th>user_score</th>\n",
       "      <th>platform</th>\n",
       "      <th>description</th>\n",
       "      <th>url</th>\n",
       "      <th>developer</th>\n",
       "      <th>genre</th>\n",
       "      <th>type</th>\n",
       "      <th>rating</th>\n",
       "    </tr>\n",
       "  </thead>\n",
       "  <tbody>\n",
       "    <tr>\n",
       "      <th>1</th>\n",
       "      <td>Super Mario Galaxy</td>\n",
       "      <td>97.0</td>\n",
       "      <td>91.0</td>\n",
       "      <td>['wii']</td>\n",
       "      <td>[Metacritic's 2007 Wii Game of the Year] The u...</td>\n",
       "      <td>https://www.metacritic.com/game/wii/super-mari...</td>\n",
       "      <td>Nintendo</td>\n",
       "      <td>['Action', 'Platformer', '3D']</td>\n",
       "      <td>singleplayer</td>\n",
       "      <td>E</td>\n",
       "    </tr>\n",
       "    <tr>\n",
       "      <th>2</th>\n",
       "      <td>Super Mario Galaxy 2</td>\n",
       "      <td>97.0</td>\n",
       "      <td>91.0</td>\n",
       "      <td>['wii']</td>\n",
       "      <td>Super Mario Galaxy 2, the sequel to the galaxy...</td>\n",
       "      <td>https://www.metacritic.com/game/wii/super-mari...</td>\n",
       "      <td>Nintendo EAD Tokyo</td>\n",
       "      <td>['Action', 'Platformer', '3D']</td>\n",
       "      <td>singleplayer</td>\n",
       "      <td>E</td>\n",
       "    </tr>\n",
       "    <tr>\n",
       "      <th>3</th>\n",
       "      <td>Metroid Prime</td>\n",
       "      <td>97.0</td>\n",
       "      <td>89.0</td>\n",
       "      <td>['gamecube']</td>\n",
       "      <td>Samus returns in a new mission to unravel the ...</td>\n",
       "      <td>https://www.metacritic.com/game/gamecube/metro...</td>\n",
       "      <td>Retro Studios</td>\n",
       "      <td>['Action', 'Shooter', 'First-Person', 'Sci-Fi']</td>\n",
       "      <td>singleplayer</td>\n",
       "      <td>T</td>\n",
       "    </tr>\n",
       "    <tr>\n",
       "      <th>4</th>\n",
       "      <td>Super Mario Odyssey</td>\n",
       "      <td>97.0</td>\n",
       "      <td>89.0</td>\n",
       "      <td>['switch']</td>\n",
       "      <td>New Evolution of Mario Sandbox-Style Gameplay....</td>\n",
       "      <td>https://www.metacritic.com/game/switch/super-m...</td>\n",
       "      <td>Nintendo</td>\n",
       "      <td>['Action', 'Platformer', '3D']</td>\n",
       "      <td>singleplayer</td>\n",
       "      <td>E10+</td>\n",
       "    </tr>\n",
       "    <tr>\n",
       "      <th>5</th>\n",
       "      <td>Halo: Combat Evolved</td>\n",
       "      <td>97.0</td>\n",
       "      <td>87.0</td>\n",
       "      <td>['xbox']</td>\n",
       "      <td>Enter the mysterious world of Halo, an alien p...</td>\n",
       "      <td>https://www.metacritic.com/game/xbox/halo-comb...</td>\n",
       "      <td>Bungie Software</td>\n",
       "      <td>['Action', 'Shooter', 'First-Person', 'Sci-Fi']</td>\n",
       "      <td>multiplayer</td>\n",
       "      <td>M</td>\n",
       "    </tr>\n",
       "  </tbody>\n",
       "</table>\n",
       "</div>"
      ],
      "text/plain": [
       "              game_name  meta_score  user_score      platform  \\\n",
       "1    Super Mario Galaxy        97.0        91.0       ['wii']   \n",
       "2  Super Mario Galaxy 2        97.0        91.0       ['wii']   \n",
       "3         Metroid Prime        97.0        89.0  ['gamecube']   \n",
       "4   Super Mario Odyssey        97.0        89.0    ['switch']   \n",
       "5  Halo: Combat Evolved        97.0        87.0      ['xbox']   \n",
       "\n",
       "                                         description  \\\n",
       "1  [Metacritic's 2007 Wii Game of the Year] The u...   \n",
       "2  Super Mario Galaxy 2, the sequel to the galaxy...   \n",
       "3  Samus returns in a new mission to unravel the ...   \n",
       "4  New Evolution of Mario Sandbox-Style Gameplay....   \n",
       "5  Enter the mysterious world of Halo, an alien p...   \n",
       "\n",
       "                                                 url            developer  \\\n",
       "1  https://www.metacritic.com/game/wii/super-mari...             Nintendo   \n",
       "2  https://www.metacritic.com/game/wii/super-mari...  Nintendo EAD Tokyo    \n",
       "3  https://www.metacritic.com/game/gamecube/metro...        Retro Studios   \n",
       "4  https://www.metacritic.com/game/switch/super-m...             Nintendo   \n",
       "5  https://www.metacritic.com/game/xbox/halo-comb...      Bungie Software   \n",
       "\n",
       "                                             genre          type rating  \n",
       "1                   ['Action', 'Platformer', '3D']  singleplayer      E  \n",
       "2                   ['Action', 'Platformer', '3D']  singleplayer      E  \n",
       "3  ['Action', 'Shooter', 'First-Person', 'Sci-Fi']  singleplayer      T  \n",
       "4                   ['Action', 'Platformer', '3D']  singleplayer   E10+  \n",
       "5  ['Action', 'Shooter', 'First-Person', 'Sci-Fi']   multiplayer      M  "
      ]
     },
     "metadata": {},
     "output_type": "display_data"
    }
   ],
   "source": [
    "# 4. Fungsi rekomendasi\n",
    "def recommend(item_index, distance_matrix, df, top_n=5):\n",
    "    distances = distance_matrix[item_index]\n",
    "    nearest_indices = distances.argsort()[1:top_n+1]\n",
    "    recommended_items = df.iloc[nearest_indices]\n",
    "    recommended_distances = distances[nearest_indices]\n",
    "    return recommended_items, recommended_distances\n",
    "\n",
    "# Contoh rekomendasi untuk item ke-0\n",
    "item_idx = 0\n",
    "recommended_items, recommended_distances = recommend(item_idx, distance_matrix, df, top_n=5)\n",
    "\n",
    "print(f\"\\nRekomendasi 5 item terdekat untuk item index {item_idx}:\")\n",
    "display(recommended_items)\n"
   ]
  },
  {
   "cell_type": "code",
   "execution_count": 9,
   "id": "41a91f94",
   "metadata": {},
   "outputs": [
    {
     "data": {
      "image/png": "[encoded data removed]",
      "text/plain": [
       "<Figure size 800x500 with 1 Axes>"
      ]
     },
     "metadata": {},
     "output_type": "display_data"
    }
   ],
   "source": [
    "# 5. Evaluasi sederhana: Visualisasi jarak rekomendasi item ke-0\n",
    "plt.figure(figsize=(8,5))\n",
    "plt.bar(range(1,6), recommended_distances)\n",
    "plt.xlabel('Rank Rekomendasi')\n",
    "plt.ylabel('Jarak Euclidean')\n",
    "plt.title(f'Jarak Euclidean untuk 5 Rekomendasi Teratas Item index {item_idx}')\n",
    "plt.show()"
   ]
  }
 ],
 "metadata": {
  "kernelspec": {
   "display_name": ".venv",
   "language": "python",
   "name": "python3"
  },
  "language_info": {
   "codemirror_mode": {
    "name": "ipython",
    "version": 3
   },
   "file_extension": ".py",
   "mimetype": "text/x-python",
   "name": "python",
   "nbconvert_exporter": "python",
   "pygments_lexer": "ipython3",
   "version": "3.12.3"
  }
 },
 "nbformat": 4,
 "nbformat_minor": 5
}
