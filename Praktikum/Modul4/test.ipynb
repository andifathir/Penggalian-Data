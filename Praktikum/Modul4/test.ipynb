{
 "cells": [
  {
   "cell_type": "code",
   "execution_count": 10,
   "id": "fb6c92cc",
   "metadata": {},
   "outputs": [],
   "source": [
    "import pandas as pd\n",
    "from sklearn.model_selection import train_test_split\n",
    "from sklearn.preprocessing import LabelEncoder, StandardScaler\n",
    "from sklearn.ensemble import RandomForestClassifier\n",
    "from sklearn.metrics import classification_report, accuracy_score, confusion_matrix\n",
    "import matplotlib.pyplot as plt\n",
    "import seaborn as sns"
   ]
  },
  {
   "cell_type": "code",
   "execution_count": null,
   "id": "b04def00",
   "metadata": {},
   "outputs": [
    {
     "data": {
      "application/vnd.microsoft.datawrangler.viewer.v0+json": {
       "columns": [
        {
         "name": "index",
         "rawType": "int64",
         "type": "integer"
        },
        {
         "name": "State",
         "rawType": "object",
         "type": "string"
        },
        {
         "name": "Region",
         "rawType": "object",
         "type": "string"
        },
        {
         "name": "iPhone Sales (in million units)",
         "rawType": "float64",
         "type": "float"
        },
        {
         "name": "iPad Sales (in million units)",
         "rawType": "float64",
         "type": "float"
        },
        {
         "name": "Mac Sales (in million units)",
         "rawType": "float64",
         "type": "float"
        },
        {
         "name": "Wearables (in million units)",
         "rawType": "float64",
         "type": "float"
        },
        {
         "name": "Services Revenue (in billion $)",
         "rawType": "float64",
         "type": "float"
        }
       ],
       "conversionMethod": "pd.DataFrame",
       "ref": "6dc20f06-491b-430f-964c-6ed7f4f8ea2c",
       "rows": [
        [
         "0",
         "Chongqing",
         "Greater China",
         "7.46",
         "6.75",
         "1.19",
         "5.88",
         "15.88"
        ],
        [
         "1",
         "Germany",
         "Europe",
         "8.63",
         "14.06",
         "7.03",
         "7.42",
         "10.12"
        ],
        [
         "2",
         "UK",
         "Europe",
         "5.61",
         "14.09",
         "8.78",
         "8.19",
         "19.85"
        ],
        [
         "3",
         "Shanghai",
         "Greater China",
         "7.82",
         "7.97",
         "9.78",
         "2.28",
         "6.16"
        ],
        [
         "4",
         "Thailand",
         "Rest of Asia",
         "16.7",
         "8.13",
         "6.46",
         "3.48",
         "13.29"
        ]
       ],
       "shape": {
        "columns": 7,
        "rows": 5
       }
      },
      "text/html": [
       "<div>\n",
       "<style scoped>\n",
       "    .dataframe tbody tr th:only-of-type {\n",
       "        vertical-align: middle;\n",
       "    }\n",
       "\n",
       "    .dataframe tbody tr th {\n",
       "        vertical-align: top;\n",
       "    }\n",
       "\n",
       "    .dataframe thead th {\n",
       "        text-align: right;\n",
       "    }\n",
       "</style>\n",
       "<table border=\"1\" class=\"dataframe\">\n",
       "  <thead>\n",
       "    <tr style=\"text-align: right;\">\n",
       "      <th></th>\n",
       "      <th>State</th>\n",
       "      <th>Region</th>\n",
       "      <th>iPhone Sales (in million units)</th>\n",
       "      <th>iPad Sales (in million units)</th>\n",
       "      <th>Mac Sales (in million units)</th>\n",
       "      <th>Wearables (in million units)</th>\n",
       "      <th>Services Revenue (in billion $)</th>\n",
       "    </tr>\n",
       "  </thead>\n",
       "  <tbody>\n",
       "    <tr>\n",
       "      <th>0</th>\n",
       "      <td>Chongqing</td>\n",
       "      <td>Greater China</td>\n",
       "      <td>7.46</td>\n",
       "      <td>6.75</td>\n",
       "      <td>1.19</td>\n",
       "      <td>5.88</td>\n",
       "      <td>15.88</td>\n",
       "    </tr>\n",
       "    <tr>\n",
       "      <th>1</th>\n",
       "      <td>Germany</td>\n",
       "      <td>Europe</td>\n",
       "      <td>8.63</td>\n",
       "      <td>14.06</td>\n",
       "      <td>7.03</td>\n",
       "      <td>7.42</td>\n",
       "      <td>10.12</td>\n",
       "    </tr>\n",
       "    <tr>\n",
       "      <th>2</th>\n",
       "      <td>UK</td>\n",
       "      <td>Europe</td>\n",
       "      <td>5.61</td>\n",
       "      <td>14.09</td>\n",
       "      <td>8.78</td>\n",
       "      <td>8.19</td>\n",
       "      <td>19.85</td>\n",
       "    </tr>\n",
       "    <tr>\n",
       "      <th>3</th>\n",
       "      <td>Shanghai</td>\n",
       "      <td>Greater China</td>\n",
       "      <td>7.82</td>\n",
       "      <td>7.97</td>\n",
       "      <td>9.78</td>\n",
       "      <td>2.28</td>\n",
       "      <td>6.16</td>\n",
       "    </tr>\n",
       "    <tr>\n",
       "      <th>4</th>\n",
       "      <td>Thailand</td>\n",
       "      <td>Rest of Asia</td>\n",
       "      <td>16.70</td>\n",
       "      <td>8.13</td>\n",
       "      <td>6.46</td>\n",
       "      <td>3.48</td>\n",
       "      <td>13.29</td>\n",
       "    </tr>\n",
       "  </tbody>\n",
       "</table>\n",
       "</div>"
      ],
      "text/plain": [
       "       State         Region  iPhone Sales (in million units)  \\\n",
       "0  Chongqing  Greater China                             7.46   \n",
       "1    Germany         Europe                             8.63   \n",
       "2         UK         Europe                             5.61   \n",
       "3   Shanghai  Greater China                             7.82   \n",
       "4   Thailand   Rest of Asia                            16.70   \n",
       "\n",
       "   iPad Sales (in million units)  Mac Sales (in million units)  \\\n",
       "0                           6.75                          1.19   \n",
       "1                          14.06                          7.03   \n",
       "2                          14.09                          8.78   \n",
       "3                           7.97                          9.78   \n",
       "4                           8.13                          6.46   \n",
       "\n",
       "   Wearables (in million units)  Services Revenue (in billion $)  \n",
       "0                          5.88                            15.88  \n",
       "1                          7.42                            10.12  \n",
       "2                          8.19                            19.85  \n",
       "3                          2.28                             6.16  \n",
       "4                          3.48                            13.29  "
      ]
     },
     "execution_count": 2,
     "metadata": {},
     "output_type": "execute_result"
    }
   ],
   "source": [
    "# Load the dataset\n",
    "file_path = 'Latihan_modul4.csv'\n",
    "df = pd.read_csv(file_path)\n",
    "\n",
    "# Show the first few rows of the dataset\n",
    "df.head()"
   ]
  },
  {
   "cell_type": "code",
   "execution_count": 3,
   "id": "fb121b24",
   "metadata": {},
   "outputs": [],
   "source": [
    "# 1. Hapus kolom 'State'\n",
    "df = df.drop(columns=['State'])"
   ]
  },
  {
   "cell_type": "code",
   "execution_count": 13,
   "id": "711f49cd",
   "metadata": {},
   "outputs": [
    {
     "data": {
      "text/plain": [
       "np.int64(0)"
      ]
     },
     "execution_count": 13,
     "metadata": {},
     "output_type": "execute_result"
    }
   ],
   "source": [
    "df.duplicated().sum()"
   ]
  },
  {
   "cell_type": "code",
   "execution_count": 4,
   "id": "2c3b41d6",
   "metadata": {},
   "outputs": [],
   "source": [
    "# 2. Konversi 'Region' menjadi label numerik\n",
    "label_encoder = LabelEncoder()\n",
    "df['Region'] = label_encoder.fit_transform(df['Region'])"
   ]
  },
  {
   "cell_type": "code",
   "execution_count": 5,
   "id": "1d837ae7",
   "metadata": {},
   "outputs": [],
   "source": [
    "# 3. Pisahkan fitur dan target\n",
    "X = df.drop(columns=['Region'])\n",
    "y = df['Region']"
   ]
  },
  {
   "cell_type": "code",
   "execution_count": 6,
   "id": "6abaa006",
   "metadata": {},
   "outputs": [],
   "source": [
    "# 4. Lakukan scaling pada fitur numerik\n",
    "scaler = StandardScaler()\n",
    "X_scaled = scaler.fit_transform(X)"
   ]
  },
  {
   "cell_type": "code",
   "execution_count": 7,
   "id": "92d3bc06",
   "metadata": {},
   "outputs": [],
   "source": [
    "# 5. Bagi data menjadi data latih dan data uji\n",
    "X_train, X_test, y_train, y_test = train_test_split(X_scaled, y, test_size=0.3, random_state=42)"
   ]
  },
  {
   "cell_type": "code",
   "execution_count": 8,
   "id": "1c526ff5",
   "metadata": {},
   "outputs": [
    {
     "data": {
      "text/plain": [
       "(0.25,\n",
       " '              precision    recall  f1-score   support\\n\\n           0       0.31      0.33      0.32        61\\n           1       0.26      0.29      0.27        65\\n           2       0.20      0.16      0.17        51\\n           3       0.15      0.11      0.13        55\\n           4       0.27      0.32      0.30        68\\n\\n    accuracy                           0.25       300\\n   macro avg       0.24      0.24      0.24       300\\nweighted avg       0.24      0.25      0.24       300\\n')"
      ]
     },
     "execution_count": 8,
     "metadata": {},
     "output_type": "execute_result"
    }
   ],
   "source": [
    "# 6. Latih model menggunakan Random Forest Classifier\n",
    "rf_classifier = RandomForestClassifier(random_state=42)\n",
    "rf_classifier.fit(X_train, y_train)\n",
    "\n",
    "# 7. Prediksi pada data uji\n",
    "y_pred = rf_classifier.predict(X_test)\n",
    "\n",
    "# 8. Evaluasi model\n",
    "accuracy = accuracy_score(y_test, y_pred)\n",
    "class_report = classification_report(y_test, y_pred)\n",
    "\n",
    "accuracy, class_report"
   ]
  },
  {
   "cell_type": "code",
   "execution_count": 9,
   "id": "49234f44",
   "metadata": {},
   "outputs": [
    {
     "ename": "NameError",
     "evalue": "name 'confusion_matrix' is not defined",
     "output_type": "error",
     "traceback": [
      "\u001b[31m---------------------------------------------------------------------------\u001b[39m",
      "\u001b[31mNameError\u001b[39m                                 Traceback (most recent call last)",
      "\u001b[36mCell\u001b[39m\u001b[36m \u001b[39m\u001b[32mIn[9]\u001b[39m\u001b[32m, line 2\u001b[39m\n\u001b[32m      1\u001b[39m \u001b[38;5;66;03m# Generate confusion matrix\u001b[39;00m\n\u001b[32m----> \u001b[39m\u001b[32m2\u001b[39m conf_matrix = \u001b[43mconfusion_matrix\u001b[49m(y_test, y_pred)\n\u001b[32m      4\u001b[39m \u001b[38;5;66;03m# Create a heatmap for the confusion matrix\u001b[39;00m\n\u001b[32m      5\u001b[39m plt.figure(figsize=(\u001b[32m8\u001b[39m, \u001b[32m6\u001b[39m))\n",
      "\u001b[31mNameError\u001b[39m: name 'confusion_matrix' is not defined"
     ]
    }
   ],
   "source": [
    "# Generate confusion matrix\n",
    "conf_matrix = confusion_matrix(y_test, y_pred)\n",
    "\n",
    "# Create a heatmap for the confusion matrix\n",
    "plt.figure(figsize=(8, 6))\n",
    "sns.heatmap(conf_matrix, annot=True, fmt='d', cmap='Blues', xticklabels=label_encoder.classes_, yticklabels=label_encoder.classes_)\n",
    "plt.title('Confusion Matrix')\n",
    "plt.xlabel('Predicted Labels')\n",
    "plt.ylabel('True Labels')\n",
    "plt.show()\n",
    "\n",
    "accuracy, class_report"
   ]
  }
 ],
 "metadata": {
  "kernelspec": {
   "display_name": ".venv",
   "language": "python",
   "name": "python3"
  },
  "language_info": {
   "codemirror_mode": {
    "name": "ipython",
    "version": 3
   },
   "file_extension": ".py",
   "mimetype": "text/x-python",
   "name": "python",
   "nbconvert_exporter": "python",
   "pygments_lexer": "ipython3",
   "version": "3.12.3"
  }
 },
 "nbformat": 4,
 "nbformat_minor": 5
}
