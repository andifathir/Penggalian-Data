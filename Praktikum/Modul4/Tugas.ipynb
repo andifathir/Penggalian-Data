{
 "cells": [
  {
   "cell_type": "markdown",
   "id": "b273b733",
   "metadata": {},
   "source": [
    "## Tugas 1"
   ]
  },
  {
   "cell_type": "code",
   "execution_count": 2,
   "id": "c9218309",
   "metadata": {},
   "outputs": [],
   "source": [
    "import pandas as pd\n",
    "import re\n",
    "import nltk\n",
    "from nltk.corpus import stopwords\n",
    "from nltk.stem import PorterStemmer, WordNetLemmatizer\n",
    "from sklearn.feature_extraction.text import CountVectorizer, TfidfVectorizer"
   ]
  },
  {
   "cell_type": "code",
   "execution_count": 31,
   "id": "7e15a4fd",
   "metadata": {},
   "outputs": [
    {
     "name": "stdout",
     "output_type": "stream",
     "text": [
      "<class 'pandas.core.frame.DataFrame'>\n",
      "RangeIndex: 3729 entries, 0 to 3728\n",
      "Data columns (total 2 columns):\n",
      " #   Column  Non-Null Count  Dtype \n",
      "---  ------  --------------  ----- \n",
      " 0   label   3729 non-null   object\n",
      " 1   text    3721 non-null   object\n",
      "dtypes: object(2)\n",
      "memory usage: 58.4+ KB\n"
     ]
    }
   ],
   "source": [
    "# Load the dataset\n",
    "file_path = 'Tugas 1_NIM Genap_Modul 4.csv'\n",
    "df = pd.read_csv(file_path)\n",
    "\n",
    "text_column = 'text'  # Replace with the actual column name containing text\n",
    "label_column = 'label'  # Replace with the actual label column name\n",
    "\n",
    "# Show the first few rows of the dataset\n",
    "df.info()"
   ]
  },
  {
   "cell_type": "code",
   "execution_count": 4,
   "id": "97a7ecf1",
   "metadata": {},
   "outputs": [
    {
     "name": "stderr",
     "output_type": "stream",
     "text": [
      "[nltk_data] Downloading package stopwords to\n",
      "[nltk_data]     C:\\Users\\andif\\AppData\\Roaming\\nltk_data...\n",
      "[nltk_data]   Package stopwords is already up-to-date!\n",
      "[nltk_data] Downloading package wordnet to\n",
      "[nltk_data]     C:\\Users\\andif\\AppData\\Roaming\\nltk_data...\n",
      "[nltk_data]   Package wordnet is already up-to-date!\n"
     ]
    },
    {
     "data": {
      "text/plain": [
       "True"
      ]
     },
     "execution_count": 4,
     "metadata": {},
     "output_type": "execute_result"
    }
   ],
   "source": [
    "# Initialize the stemmer and lemmatizer\n",
    "stemmer = PorterStemmer()\n",
    "lemmatizer = WordNetLemmatizer()\n",
    "\n",
    "# Download necessary NLTK resources\n",
    "nltk.download('stopwords')\n",
    "nltk.download('wordnet')"
   ]
  },
  {
   "cell_type": "markdown",
   "id": "f4781d8b",
   "metadata": {},
   "source": [
    "# Preprocessing"
   ]
  },
  {
   "cell_type": "code",
   "execution_count": 5,
   "id": "7e952a49",
   "metadata": {},
   "outputs": [],
   "source": [
    "# 1. Case Folding\n",
    "def case_folding(text):\n",
    "    if isinstance(text, str):  # Check if the value is a string\n",
    "        return text.lower()\n",
    "    else:\n",
    "        return \"\"  # Return an empty string for non-string values"
   ]
  },
  {
   "cell_type": "code",
   "execution_count": 6,
   "id": "a832867a",
   "metadata": {},
   "outputs": [],
   "source": [
    "# 2. Data Cleaning (remove unwanted characters)\n",
    "def clean_text(text):\n",
    "    # Remove HTML tags, URLs, mentions (@user), hashtags (#), emojis, digits, and punctuation\n",
    "    text = re.sub(r'<.*?>', '', text)  # Remove HTML tags\n",
    "    text = re.sub(r'http\\S+', '', text)  # Remove URLs\n",
    "    text = re.sub(r'@\\w+', '', text)  # Remove mentions\n",
    "    text = re.sub(r'#\\w+', '', text)  # Remove hashtags\n",
    "    text = re.sub(r'[^\\w\\s]', '', text)  # Remove punctuation\n",
    "    text = re.sub(r'\\d+', '', text)  # Remove digits\n",
    "    text = re.sub(r'[\\U00010000-\\U0010ffff]', '', text)  # Remove emojis\n",
    "    return text"
   ]
  },
  {
   "cell_type": "code",
   "execution_count": 7,
   "id": "aa8a6a52",
   "metadata": {},
   "outputs": [],
   "source": [
    "# 3. Tokenization\n",
    "def tokenize(text):\n",
    "    return text.split()"
   ]
  },
  {
   "cell_type": "code",
   "execution_count": 8,
   "id": "23bc4f40",
   "metadata": {},
   "outputs": [],
   "source": [
    "# 4. Stopwords Removal\n",
    "def remove_stopwords(tokens):\n",
    "    stop_words = set(stopwords.words('indonesian'))  # Change to 'english' for English stopwords\n",
    "    return [word for word in tokens if word not in stop_words]"
   ]
  },
  {
   "cell_type": "code",
   "execution_count": 9,
   "id": "9215e5fd",
   "metadata": {},
   "outputs": [],
   "source": [
    "# 5. Stemming and Lemmatization\n",
    "def stem_and_lemmatize(tokens, use_stemming=True):\n",
    "    if use_stemming:\n",
    "        return [stemmer.stem(word) for word in tokens]\n",
    "    else:\n",
    "        return [lemmatizer.lemmatize(word) for word in tokens]"
   ]
  },
  {
   "cell_type": "code",
   "execution_count": 10,
   "id": "d81f5dca",
   "metadata": {},
   "outputs": [],
   "source": [
    "# 6. Manual Padding/Truncating\n",
    "def padding_truncating(tokens, max_len=100):\n",
    "    # If the sequence is shorter than max_len, pad with 'PAD' tokens\n",
    "    if len(tokens) < max_len:\n",
    "        tokens += ['PAD'] * (max_len - len(tokens))\n",
    "    # If the sequence is longer than max_len, truncate it\n",
    "    elif len(tokens) > max_len:\n",
    "        tokens = tokens[:max_len]\n",
    "    return tokens"
   ]
  },
  {
   "cell_type": "code",
   "execution_count": 11,
   "id": "850c13f3",
   "metadata": {},
   "outputs": [],
   "source": [
    "# # 7. Text-to-Numeric Transformation (Bag of Words or TF-IDF)\n",
    "# def text_to_numeric(tokens, method='bow'):\n",
    "#     if method == 'bow':\n",
    "#         vectorizer = CountVectorizer()\n",
    "#         return vectorizer.fit_transform([' '.join(tokens)]).toarray()\n",
    "#     elif method == 'tfidf':\n",
    "#         vectorizer = TfidfVectorizer()\n",
    "#         return vectorizer.fit_transform([' '.join(tokens)]).toarray()"
   ]
  },
  {
   "cell_type": "code",
   "execution_count": 12,
   "id": "19ef077d",
   "metadata": {},
   "outputs": [],
   "source": [
    "# Apply all steps to the dataset\n",
    "def preprocess_text(text, use_stemming=True):\n",
    "    text = case_folding(text)  # Step 1: Case folding\n",
    "    text = clean_text(text)  # Step 2: Data cleaning\n",
    "    tokens = tokenize(text)  # Step 3: Tokenization\n",
    "    tokens = remove_stopwords(tokens)  # Step 4: Stopwords removal\n",
    "    tokens = stem_and_lemmatize(tokens, use_stemming)  # Step 5: Stemming/Lemmatization\n",
    "    return tokens"
   ]
  },
  {
   "cell_type": "code",
   "execution_count": 13,
   "id": "eeb46862",
   "metadata": {},
   "outputs": [],
   "source": [
    "# Apply preprocessing to each row in the dataset\n",
    "df['processed_text'] = df[text_column].apply(preprocess_text)"
   ]
  },
  {
   "cell_type": "code",
   "execution_count": 14,
   "id": "9e49a708",
   "metadata": {},
   "outputs": [],
   "source": [
    "# Example of Padding/Truncating and Text-to-Numeric Transformation\n",
    "# Assuming 'processed_text' column contains tokenized text\n",
    "df['padded_text'] = df['processed_text'].apply(lambda x: padding_truncating(x, max_len=100))"
   ]
  },
  {
   "cell_type": "code",
   "execution_count": 15,
   "id": "23d22f89",
   "metadata": {},
   "outputs": [],
   "source": [
    "# # Example of text-to-numeric transformation using TF-IDF\n",
    "# df['numeric_tfidf'] = df['processed_text'].apply(lambda x: text_to_numeric(x, method='tfidf'))"
   ]
  },
  {
   "cell_type": "code",
   "execution_count": 16,
   "id": "76b48297",
   "metadata": {},
   "outputs": [],
   "source": [
    "# 8. Label Encoding\n",
    "def encode_labels(df, label_column):\n",
    "    encoder = LabelEncoder()\n",
    "    df[label_column] = encoder.fit_transform(df[label_column])\n",
    "    return df"
   ]
  },
  {
   "cell_type": "markdown",
   "id": "a883730b",
   "metadata": {},
   "source": [
    "# Models Building"
   ]
  },
  {
   "cell_type": "code",
   "execution_count": 17,
   "id": "5938194c",
   "metadata": {},
   "outputs": [],
   "source": [
    "import pandas as pd\n",
    "from sklearn.model_selection import train_test_split\n",
    "from sklearn.feature_extraction.text import TfidfVectorizer\n",
    "from sklearn.linear_model import LogisticRegression\n",
    "from sklearn.metrics import accuracy_score, classification_report\n",
    "from sklearn.preprocessing import LabelEncoder"
   ]
  },
  {
   "cell_type": "code",
   "execution_count": 18,
   "id": "87da3f66",
   "metadata": {},
   "outputs": [],
   "source": [
    "from sklearn.metrics import accuracy_score, confusion_matrix, classification_report\n",
    "\n",
    "def print_score(clf, X_train, y_train, X_test, y_test, train=True):\n",
    "    if train:\n",
    "        pred = clf.predict(X_train)\n",
    "        clf_report = pd.DataFrame(classification_report(y_train, pred, output_dict=True))\n",
    "        print(\"Train Result:\\n================================================\")\n",
    "        print(f\"Accuracy Score: {accuracy_score(y_train, pred) * 100:.2f}%\")\n",
    "        print(\"_______________________________________________\")\n",
    "        print(f\"CLASSIFICATION REPORT:\\n{clf_report}\")\n",
    "        print(\"_______________________________________________\")\n",
    "        print(f\"Confusion Matrix: \\n {confusion_matrix(y_train, pred)}\\n\")\n",
    "        \n",
    "    elif train==False:\n",
    "        pred = clf.predict(X_test)\n",
    "        clf_report = pd.DataFrame(classification_report(y_test, pred, output_dict=True))\n",
    "        print(\"Test Result:\\n================================================\")        \n",
    "        print(f\"Accuracy Score: {accuracy_score(y_test, pred) * 100:.2f}%\")\n",
    "        print(\"_______________________________________________\")\n",
    "        print(f\"CLASSIFICATION REPORT:\\n{clf_report}\")\n",
    "        print(\"_______________________________________________\")\n",
    "        print(f\"Confusion Matrix: \\n {confusion_matrix(y_test, pred)}\\n\")"
   ]
  },
  {
   "cell_type": "code",
   "execution_count": 19,
   "id": "f45866b6",
   "metadata": {},
   "outputs": [],
   "source": [
    "from sklearn.model_selection import train_test_split\n",
    "\n",
    "X = df['processed_text'].apply(lambda x: ' '.join(x))  # Join tokens back into text for TF-IDF\n",
    "y = df['label']  # The encoded label column\n",
    "\n",
    "X_train, X_test, y_train, y_test = train_test_split(X, y, test_size=0.3, random_state=42)\n",
    "\n",
    "# 1. Text Vectorization using TF-IDF\n",
    "tfidf_vectorizer = TfidfVectorizer(max_features=5000)  # Set max features to limit the number of tokens\n",
    "X_train = tfidf_vectorizer.fit_transform(X_train)\n",
    "X_test = tfidf_vectorizer.transform(X_test)"
   ]
  },
  {
   "cell_type": "markdown",
   "id": "0502c512",
   "metadata": {},
   "source": [
    "# 1. Logistic Regression"
   ]
  },
  {
   "cell_type": "code",
   "execution_count": 20,
   "id": "f0b7871d",
   "metadata": {},
   "outputs": [
    {
     "name": "stdout",
     "output_type": "stream",
     "text": [
      "Train Result:\n",
      "================================================\n",
      "Accuracy Score: 98.97%\n",
      "_______________________________________________\n",
      "CLASSIFICATION REPORT:\n",
      "                  FAKE         REAL  accuracy    macro avg  weighted avg\n",
      "precision     0.997689     0.981707  0.989655     0.989698      0.989784\n",
      "recall        0.981804     0.997676  0.989655     0.989740      0.989655\n",
      "f1-score      0.989683     0.989627  0.989655     0.989655      0.989655\n",
      "support    1319.000000  1291.000000  0.989655  2610.000000   2610.000000\n",
      "_______________________________________________\n",
      "Confusion Matrix: \n",
      " [[1295   24]\n",
      " [   3 1288]]\n",
      "\n",
      "Test Result:\n",
      "================================================\n",
      "Accuracy Score: 98.39%\n",
      "_______________________________________________\n",
      "CLASSIFICATION REPORT:\n",
      "                 FAKE        REAL  accuracy    macro avg  weighted avg\n",
      "precision    0.996324    0.972174  0.983914     0.984249      0.984216\n",
      "recall       0.971326    0.996435  0.983914     0.983881      0.983914\n",
      "f1-score     0.983666    0.984155  0.983914     0.983910      0.983911\n",
      "support    558.000000  561.000000  0.983914  1119.000000   1119.000000\n",
      "_______________________________________________\n",
      "Confusion Matrix: \n",
      " [[542  16]\n",
      " [  2 559]]\n",
      "\n"
     ]
    }
   ],
   "source": [
    "from sklearn.linear_model import LogisticRegression\n",
    "\n",
    "lr_clf = LogisticRegression(solver='liblinear')\n",
    "lr_clf.fit(X_train, y_train)\n",
    "\n",
    "print_score(lr_clf, X_train, y_train, X_test, y_test, train=True)\n",
    "print_score(lr_clf, X_train, y_train, X_test, y_test, train=False)"
   ]
  },
  {
   "cell_type": "code",
   "execution_count": 21,
   "id": "9c8b4120",
   "metadata": {},
   "outputs": [
    {
     "data": {
      "application/vnd.microsoft.datawrangler.viewer.v0+json": {
       "columns": [
        {
         "name": "index",
         "rawType": "int64",
         "type": "integer"
        },
        {
         "name": "Model",
         "rawType": "object",
         "type": "string"
        },
        {
         "name": "Training Accuracy %",
         "rawType": "float64",
         "type": "float"
        },
        {
         "name": "Testing Accuracy %",
         "rawType": "float64",
         "type": "float"
        }
       ],
       "conversionMethod": "pd.DataFrame",
       "ref": "2824bb92-0ab8-4425-8942-7b89bd344769",
       "rows": [
        [
         "0",
         "Logistic Regression",
         "98.9655172413793",
         "98.39142091152814"
        ]
       ],
       "shape": {
        "columns": 3,
        "rows": 1
       }
      },
      "text/html": [
       "<div>\n",
       "<style scoped>\n",
       "    .dataframe tbody tr th:only-of-type {\n",
       "        vertical-align: middle;\n",
       "    }\n",
       "\n",
       "    .dataframe tbody tr th {\n",
       "        vertical-align: top;\n",
       "    }\n",
       "\n",
       "    .dataframe thead th {\n",
       "        text-align: right;\n",
       "    }\n",
       "</style>\n",
       "<table border=\"1\" class=\"dataframe\">\n",
       "  <thead>\n",
       "    <tr style=\"text-align: right;\">\n",
       "      <th></th>\n",
       "      <th>Model</th>\n",
       "      <th>Training Accuracy %</th>\n",
       "      <th>Testing Accuracy %</th>\n",
       "    </tr>\n",
       "  </thead>\n",
       "  <tbody>\n",
       "    <tr>\n",
       "      <th>0</th>\n",
       "      <td>Logistic Regression</td>\n",
       "      <td>98.965517</td>\n",
       "      <td>98.391421</td>\n",
       "    </tr>\n",
       "  </tbody>\n",
       "</table>\n",
       "</div>"
      ],
      "text/plain": [
       "                 Model  Training Accuracy %  Testing Accuracy %\n",
       "0  Logistic Regression            98.965517           98.391421"
      ]
     },
     "execution_count": 21,
     "metadata": {},
     "output_type": "execute_result"
    }
   ],
   "source": [
    "test_score = accuracy_score(y_test, lr_clf.predict(X_test)) * 100\n",
    "train_score = accuracy_score(y_train, lr_clf.predict(X_train)) * 100\n",
    "\n",
    "results_df = pd.DataFrame(data=[[\"Logistic Regression\", train_score, test_score]], columns=['Model', 'Training Accuracy %', 'Testing Accuracy %'])\n",
    "results_df"
   ]
  },
  {
   "cell_type": "markdown",
   "id": "9bfe17b2",
   "metadata": {},
   "source": [
    "# 2. K-nearest neighbors"
   ]
  },
  {
   "cell_type": "code",
   "execution_count": 22,
   "id": "dd9f52cc",
   "metadata": {},
   "outputs": [
    {
     "name": "stdout",
     "output_type": "stream",
     "text": [
      "Train Result:\n",
      "================================================\n",
      "Accuracy Score: 96.32%\n",
      "_______________________________________________\n",
      "CLASSIFICATION REPORT:\n",
      "                  FAKE         REAL  accuracy    macro avg  weighted avg\n",
      "precision     0.937098     0.993394  0.963218     0.965246      0.964944\n",
      "recall        0.993935     0.931836  0.963218     0.962885      0.963218\n",
      "f1-score      0.964680     0.961631  0.963218     0.963155      0.963172\n",
      "support    1319.000000  1291.000000  0.963218  2610.000000   2610.000000\n",
      "_______________________________________________\n",
      "Confusion Matrix: \n",
      " [[1311    8]\n",
      " [  88 1203]]\n",
      "\n",
      "Test Result:\n",
      "================================================\n",
      "Accuracy Score: 95.26%\n",
      "_______________________________________________\n",
      "CLASSIFICATION REPORT:\n",
      "                 FAKE        REAL  accuracy    macro avg  weighted avg\n",
      "precision    0.924370    0.984733  0.952636     0.954551      0.954632\n",
      "recall       0.985663    0.919786  0.952636     0.952725      0.952636\n",
      "f1-score     0.954033    0.951152  0.952636     0.952593      0.952589\n",
      "support    558.000000  561.000000  0.952636  1119.000000   1119.000000\n",
      "_______________________________________________\n",
      "Confusion Matrix: \n",
      " [[550   8]\n",
      " [ 45 516]]\n",
      "\n"
     ]
    }
   ],
   "source": [
    "from sklearn.neighbors import KNeighborsClassifier\n",
    "\n",
    "knn_clf = KNeighborsClassifier()\n",
    "knn_clf.fit(X_train, y_train)\n",
    "\n",
    "print_score(knn_clf, X_train, y_train, X_test, y_test, train=True)\n",
    "print_score(knn_clf, X_train, y_train, X_test, y_test, train=False)"
   ]
  },
  {
   "cell_type": "code",
   "execution_count": 23,
   "id": "303ea417",
   "metadata": {},
   "outputs": [
    {
     "data": {
      "application/vnd.microsoft.datawrangler.viewer.v0+json": {
       "columns": [
        {
         "name": "index",
         "rawType": "int64",
         "type": "integer"
        },
        {
         "name": "Model",
         "rawType": "object",
         "type": "string"
        },
        {
         "name": "Training Accuracy %",
         "rawType": "float64",
         "type": "float"
        },
        {
         "name": "Testing Accuracy %",
         "rawType": "float64",
         "type": "float"
        }
       ],
       "conversionMethod": "pd.DataFrame",
       "ref": "c93bee8b-fa18-4c82-a413-85a6831d1589",
       "rows": [
        [
         "0",
         "Logistic Regression",
         "98.9655172413793",
         "98.39142091152814"
        ],
        [
         "1",
         "K-nearest neighbors",
         "96.32183908045977",
         "95.26362823949955"
        ]
       ],
       "shape": {
        "columns": 3,
        "rows": 2
       }
      },
      "text/html": [
       "<div>\n",
       "<style scoped>\n",
       "    .dataframe tbody tr th:only-of-type {\n",
       "        vertical-align: middle;\n",
       "    }\n",
       "\n",
       "    .dataframe tbody tr th {\n",
       "        vertical-align: top;\n",
       "    }\n",
       "\n",
       "    .dataframe thead th {\n",
       "        text-align: right;\n",
       "    }\n",
       "</style>\n",
       "<table border=\"1\" class=\"dataframe\">\n",
       "  <thead>\n",
       "    <tr style=\"text-align: right;\">\n",
       "      <th></th>\n",
       "      <th>Model</th>\n",
       "      <th>Training Accuracy %</th>\n",
       "      <th>Testing Accuracy %</th>\n",
       "    </tr>\n",
       "  </thead>\n",
       "  <tbody>\n",
       "    <tr>\n",
       "      <th>0</th>\n",
       "      <td>Logistic Regression</td>\n",
       "      <td>98.965517</td>\n",
       "      <td>98.391421</td>\n",
       "    </tr>\n",
       "    <tr>\n",
       "      <th>1</th>\n",
       "      <td>K-nearest neighbors</td>\n",
       "      <td>96.321839</td>\n",
       "      <td>95.263628</td>\n",
       "    </tr>\n",
       "  </tbody>\n",
       "</table>\n",
       "</div>"
      ],
      "text/plain": [
       "                 Model  Training Accuracy %  Testing Accuracy %\n",
       "0  Logistic Regression            98.965517           98.391421\n",
       "1  K-nearest neighbors            96.321839           95.263628"
      ]
     },
     "execution_count": 23,
     "metadata": {},
     "output_type": "execute_result"
    }
   ],
   "source": [
    "test_score = accuracy_score(y_test, knn_clf.predict(X_test)) * 100\n",
    "train_score = accuracy_score(y_train, knn_clf.predict(X_train)) * 100\n",
    "\n",
    "results_df_2 = pd.DataFrame(data=[[\"K-nearest neighbors\", train_score, test_score]], \n",
    "                          columns=['Model', 'Training Accuracy %', 'Testing Accuracy %'])\n",
    "results_df = pd.concat([results_df, results_df_2], ignore_index=True)\n",
    "results_df"
   ]
  },
  {
   "cell_type": "markdown",
   "id": "5210c935",
   "metadata": {},
   "source": [
    "# 3. Support Vector Machine"
   ]
  },
  {
   "cell_type": "code",
   "execution_count": 24,
   "id": "dd83734f",
   "metadata": {},
   "outputs": [
    {
     "name": "stdout",
     "output_type": "stream",
     "text": [
      "Train Result:\n",
      "================================================\n",
      "Accuracy Score: 98.81%\n",
      "_______________________________________________\n",
      "CLASSIFICATION REPORT:\n",
      "                  FAKE         REAL  accuracy    macro avg  weighted avg\n",
      "precision     0.996148     0.980183  0.988123     0.988165      0.988251\n",
      "recall        0.980288     0.996127  0.988123     0.988208      0.988123\n",
      "f1-score      0.988154     0.988091  0.988123     0.988123      0.988123\n",
      "support    1319.000000  1291.000000  0.988123  2610.000000   2610.000000\n",
      "_______________________________________________\n",
      "Confusion Matrix: \n",
      " [[1293   26]\n",
      " [   5 1286]]\n",
      "\n",
      "Test Result:\n",
      "================================================\n",
      "Accuracy Score: 98.57%\n",
      "_______________________________________________\n",
      "CLASSIFICATION REPORT:\n",
      "                 FAKE        REAL  accuracy    macro avg  weighted avg\n",
      "precision    0.994526    0.977233  0.985702     0.985879      0.985856\n",
      "recall       0.976703    0.994652  0.985702     0.985677      0.985702\n",
      "f1-score     0.985533    0.985866  0.985702     0.985700      0.985700\n",
      "support    558.000000  561.000000  0.985702  1119.000000   1119.000000\n",
      "_______________________________________________\n",
      "Confusion Matrix: \n",
      " [[545  13]\n",
      " [  3 558]]\n",
      "\n"
     ]
    }
   ],
   "source": [
    "from sklearn.svm import SVC\n",
    "\n",
    "\n",
    "svm_clf = SVC(kernel='rbf', gamma=0.1, C=1.0)\n",
    "svm_clf.fit(X_train, y_train)\n",
    "\n",
    "print_score(svm_clf, X_train, y_train, X_test, y_test, train=True)\n",
    "print_score(svm_clf, X_train, y_train, X_test, y_test, train=False)"
   ]
  },
  {
   "cell_type": "code",
   "execution_count": 25,
   "id": "edf60065",
   "metadata": {},
   "outputs": [
    {
     "data": {
      "application/vnd.microsoft.datawrangler.viewer.v0+json": {
       "columns": [
        {
         "name": "index",
         "rawType": "int64",
         "type": "integer"
        },
        {
         "name": "Model",
         "rawType": "object",
         "type": "string"
        },
        {
         "name": "Training Accuracy %",
         "rawType": "float64",
         "type": "float"
        },
        {
         "name": "Testing Accuracy %",
         "rawType": "float64",
         "type": "float"
        }
       ],
       "conversionMethod": "pd.DataFrame",
       "ref": "a8b46111-d03f-4314-9514-d91e604dae5d",
       "rows": [
        [
         "0",
         "Logistic Regression",
         "98.9655172413793",
         "98.39142091152814"
        ],
        [
         "1",
         "K-nearest neighbors",
         "96.32183908045977",
         "95.26362823949955"
        ],
        [
         "2",
         "Support Vector Machine",
         "98.81226053639847",
         "98.57015192135835"
        ]
       ],
       "shape": {
        "columns": 3,
        "rows": 3
       }
      },
      "text/html": [
       "<div>\n",
       "<style scoped>\n",
       "    .dataframe tbody tr th:only-of-type {\n",
       "        vertical-align: middle;\n",
       "    }\n",
       "\n",
       "    .dataframe tbody tr th {\n",
       "        vertical-align: top;\n",
       "    }\n",
       "\n",
       "    .dataframe thead th {\n",
       "        text-align: right;\n",
       "    }\n",
       "</style>\n",
       "<table border=\"1\" class=\"dataframe\">\n",
       "  <thead>\n",
       "    <tr style=\"text-align: right;\">\n",
       "      <th></th>\n",
       "      <th>Model</th>\n",
       "      <th>Training Accuracy %</th>\n",
       "      <th>Testing Accuracy %</th>\n",
       "    </tr>\n",
       "  </thead>\n",
       "  <tbody>\n",
       "    <tr>\n",
       "      <th>0</th>\n",
       "      <td>Logistic Regression</td>\n",
       "      <td>98.965517</td>\n",
       "      <td>98.391421</td>\n",
       "    </tr>\n",
       "    <tr>\n",
       "      <th>1</th>\n",
       "      <td>K-nearest neighbors</td>\n",
       "      <td>96.321839</td>\n",
       "      <td>95.263628</td>\n",
       "    </tr>\n",
       "    <tr>\n",
       "      <th>2</th>\n",
       "      <td>Support Vector Machine</td>\n",
       "      <td>98.812261</td>\n",
       "      <td>98.570152</td>\n",
       "    </tr>\n",
       "  </tbody>\n",
       "</table>\n",
       "</div>"
      ],
      "text/plain": [
       "                    Model  Training Accuracy %  Testing Accuracy %\n",
       "0     Logistic Regression            98.965517           98.391421\n",
       "1     K-nearest neighbors            96.321839           95.263628\n",
       "2  Support Vector Machine            98.812261           98.570152"
      ]
     },
     "execution_count": 25,
     "metadata": {},
     "output_type": "execute_result"
    }
   ],
   "source": [
    "test_score = accuracy_score(y_test, svm_clf.predict(X_test)) * 100\n",
    "train_score = accuracy_score(y_train, svm_clf.predict(X_train)) * 100\n",
    "\n",
    "results_df_2 = pd.DataFrame(data=[[\"Support Vector Machine\", train_score, test_score]], \n",
    "                          columns=['Model', 'Training Accuracy %', 'Testing Accuracy %'])\n",
    "results_df = pd.concat([results_df, results_df_2], ignore_index=True)\n",
    "results_df"
   ]
  },
  {
   "cell_type": "markdown",
   "id": "efca2ca1",
   "metadata": {},
   "source": [
    "# 4. Decision Tree Classifier"
   ]
  },
  {
   "cell_type": "code",
   "execution_count": 26,
   "id": "7c1daddf",
   "metadata": {},
   "outputs": [
    {
     "name": "stdout",
     "output_type": "stream",
     "text": [
      "Train Result:\n",
      "================================================\n",
      "Accuracy Score: 99.92%\n",
      "_______________________________________________\n",
      "CLASSIFICATION REPORT:\n",
      "                  FAKE         REAL  accuracy    macro avg  weighted avg\n",
      "precision     0.998486     1.000000  0.999234     0.999243      0.999235\n",
      "recall        1.000000     0.998451  0.999234     0.999225      0.999234\n",
      "f1-score      0.999242     0.999225  0.999234     0.999234      0.999234\n",
      "support    1319.000000  1291.000000  0.999234  2610.000000   2610.000000\n",
      "_______________________________________________\n",
      "Confusion Matrix: \n",
      " [[1319    0]\n",
      " [   2 1289]]\n",
      "\n",
      "Test Result:\n",
      "================================================\n",
      "Accuracy Score: 99.37%\n",
      "_______________________________________________\n",
      "CLASSIFICATION REPORT:\n",
      "                 FAKE        REAL  accuracy    macro avg  weighted avg\n",
      "precision    0.992844    0.994643  0.993744     0.993744      0.993746\n",
      "recall       0.994624    0.992870  0.993744     0.993747      0.993744\n",
      "f1-score     0.993733    0.993756  0.993744     0.993744      0.993744\n",
      "support    558.000000  561.000000  0.993744  1119.000000   1119.000000\n",
      "_______________________________________________\n",
      "Confusion Matrix: \n",
      " [[555   3]\n",
      " [  4 557]]\n",
      "\n"
     ]
    }
   ],
   "source": [
    "from sklearn.tree import DecisionTreeClassifier\n",
    "\n",
    "\n",
    "tree_clf = DecisionTreeClassifier(random_state=42)\n",
    "tree_clf.fit(X_train, y_train)\n",
    "\n",
    "print_score(tree_clf, X_train, y_train, X_test, y_test, train=True)\n",
    "print_score(tree_clf, X_train, y_train, X_test, y_test, train=False)"
   ]
  },
  {
   "cell_type": "code",
   "execution_count": 27,
   "id": "525d09d7",
   "metadata": {},
   "outputs": [
    {
     "data": {
      "application/vnd.microsoft.datawrangler.viewer.v0+json": {
       "columns": [
        {
         "name": "index",
         "rawType": "int64",
         "type": "integer"
        },
        {
         "name": "Model",
         "rawType": "object",
         "type": "string"
        },
        {
         "name": "Training Accuracy %",
         "rawType": "float64",
         "type": "float"
        },
        {
         "name": "Testing Accuracy %",
         "rawType": "float64",
         "type": "float"
        }
       ],
       "conversionMethod": "pd.DataFrame",
       "ref": "53e62dda-cdf4-40f2-8a4b-cc0bcd688d9a",
       "rows": [
        [
         "0",
         "Logistic Regression",
         "98.9655172413793",
         "98.39142091152814"
        ],
        [
         "1",
         "K-nearest neighbors",
         "96.32183908045977",
         "95.26362823949955"
        ],
        [
         "2",
         "Support Vector Machine",
         "98.81226053639847",
         "98.57015192135835"
        ],
        [
         "3",
         "Decision Tree Classifier",
         "99.92337164750957",
         "99.37444146559427"
        ]
       ],
       "shape": {
        "columns": 3,
        "rows": 4
       }
      },
      "text/html": [
       "<div>\n",
       "<style scoped>\n",
       "    .dataframe tbody tr th:only-of-type {\n",
       "        vertical-align: middle;\n",
       "    }\n",
       "\n",
       "    .dataframe tbody tr th {\n",
       "        vertical-align: top;\n",
       "    }\n",
       "\n",
       "    .dataframe thead th {\n",
       "        text-align: right;\n",
       "    }\n",
       "</style>\n",
       "<table border=\"1\" class=\"dataframe\">\n",
       "  <thead>\n",
       "    <tr style=\"text-align: right;\">\n",
       "      <th></th>\n",
       "      <th>Model</th>\n",
       "      <th>Training Accuracy %</th>\n",
       "      <th>Testing Accuracy %</th>\n",
       "    </tr>\n",
       "  </thead>\n",
       "  <tbody>\n",
       "    <tr>\n",
       "      <th>0</th>\n",
       "      <td>Logistic Regression</td>\n",
       "      <td>98.965517</td>\n",
       "      <td>98.391421</td>\n",
       "    </tr>\n",
       "    <tr>\n",
       "      <th>1</th>\n",
       "      <td>K-nearest neighbors</td>\n",
       "      <td>96.321839</td>\n",
       "      <td>95.263628</td>\n",
       "    </tr>\n",
       "    <tr>\n",
       "      <th>2</th>\n",
       "      <td>Support Vector Machine</td>\n",
       "      <td>98.812261</td>\n",
       "      <td>98.570152</td>\n",
       "    </tr>\n",
       "    <tr>\n",
       "      <th>3</th>\n",
       "      <td>Decision Tree Classifier</td>\n",
       "      <td>99.923372</td>\n",
       "      <td>99.374441</td>\n",
       "    </tr>\n",
       "  </tbody>\n",
       "</table>\n",
       "</div>"
      ],
      "text/plain": [
       "                      Model  Training Accuracy %  Testing Accuracy %\n",
       "0       Logistic Regression            98.965517           98.391421\n",
       "1       K-nearest neighbors            96.321839           95.263628\n",
       "2    Support Vector Machine            98.812261           98.570152\n",
       "3  Decision Tree Classifier            99.923372           99.374441"
      ]
     },
     "execution_count": 27,
     "metadata": {},
     "output_type": "execute_result"
    }
   ],
   "source": [
    "test_score = accuracy_score(y_test, tree_clf.predict(X_test)) * 100\n",
    "train_score = accuracy_score(y_train, tree_clf.predict(X_train)) * 100\n",
    "\n",
    "results_df_2 = pd.DataFrame(data=[[\"Decision Tree Classifier\", train_score, test_score]], \n",
    "                          columns=['Model', 'Training Accuracy %', 'Testing Accuracy %'])\n",
    "results_df = pd.concat([results_df, results_df_2], ignore_index=True)\n",
    "results_df\n",
    "\n"
   ]
  },
  {
   "cell_type": "markdown",
   "id": "75bc9ce5",
   "metadata": {},
   "source": [
    "#  5. Random Forest"
   ]
  },
  {
   "cell_type": "code",
   "execution_count": 28,
   "id": "9689e3de",
   "metadata": {},
   "outputs": [
    {
     "name": "stdout",
     "output_type": "stream",
     "text": [
      "Train Result:\n",
      "================================================\n",
      "Accuracy Score: 99.92%\n",
      "_______________________________________________\n",
      "CLASSIFICATION REPORT:\n",
      "                  FAKE         REAL  accuracy    macro avg  weighted avg\n",
      "precision     0.998486     1.000000  0.999234     0.999243      0.999235\n",
      "recall        1.000000     0.998451  0.999234     0.999225      0.999234\n",
      "f1-score      0.999242     0.999225  0.999234     0.999234      0.999234\n",
      "support    1319.000000  1291.000000  0.999234  2610.000000   2610.000000\n",
      "_______________________________________________\n",
      "Confusion Matrix: \n",
      " [[1319    0]\n",
      " [   2 1289]]\n",
      "\n",
      "Test Result:\n",
      "================================================\n",
      "Accuracy Score: 98.93%\n",
      "_______________________________________________\n",
      "CLASSIFICATION REPORT:\n",
      "                 FAKE        REAL  accuracy    macro avg  weighted avg\n",
      "precision    0.978947    1.000000  0.989276     0.989474      0.989502\n",
      "recall       1.000000    0.978610  0.989276     0.989305      0.989276\n",
      "f1-score     0.989362    0.989189  0.989276     0.989275      0.989275\n",
      "support    558.000000  561.000000  0.989276  1119.000000   1119.000000\n",
      "_______________________________________________\n",
      "Confusion Matrix: \n",
      " [[558   0]\n",
      " [ 12 549]]\n",
      "\n"
     ]
    }
   ],
   "source": [
    "from sklearn.ensemble import RandomForestClassifier\n",
    "from sklearn.model_selection import RandomizedSearchCV\n",
    "\n",
    "rf_clf = RandomForestClassifier(n_estimators=1000, random_state=42)\n",
    "rf_clf.fit(X_train, y_train)\n",
    "\n",
    "print_score(rf_clf, X_train, y_train, X_test, y_test, train=True)\n",
    "print_score(rf_clf, X_train, y_train, X_test, y_test, train=False)"
   ]
  },
  {
   "cell_type": "code",
   "execution_count": 29,
   "id": "f4fe1a5e",
   "metadata": {},
   "outputs": [
    {
     "data": {
      "application/vnd.microsoft.datawrangler.viewer.v0+json": {
       "columns": [
        {
         "name": "index",
         "rawType": "int64",
         "type": "integer"
        },
        {
         "name": "Model",
         "rawType": "object",
         "type": "string"
        },
        {
         "name": "Training Accuracy %",
         "rawType": "float64",
         "type": "float"
        },
        {
         "name": "Testing Accuracy %",
         "rawType": "float64",
         "type": "float"
        }
       ],
       "conversionMethod": "pd.DataFrame",
       "ref": "7371d23e-54b1-40ce-8088-9ebccdcdfe9a",
       "rows": [
        [
         "0",
         "Logistic Regression",
         "98.9655172413793",
         "98.39142091152814"
        ],
        [
         "1",
         "K-nearest neighbors",
         "96.32183908045977",
         "95.26362823949955"
        ],
        [
         "2",
         "Support Vector Machine",
         "98.81226053639847",
         "98.57015192135835"
        ],
        [
         "3",
         "Decision Tree Classifier",
         "99.92337164750957",
         "99.37444146559427"
        ],
        [
         "4",
         "Random Forest Classifier",
         "99.92337164750957",
         "98.92761394101876"
        ]
       ],
       "shape": {
        "columns": 3,
        "rows": 5
       }
      },
      "text/html": [
       "<div>\n",
       "<style scoped>\n",
       "    .dataframe tbody tr th:only-of-type {\n",
       "        vertical-align: middle;\n",
       "    }\n",
       "\n",
       "    .dataframe tbody tr th {\n",
       "        vertical-align: top;\n",
       "    }\n",
       "\n",
       "    .dataframe thead th {\n",
       "        text-align: right;\n",
       "    }\n",
       "</style>\n",
       "<table border=\"1\" class=\"dataframe\">\n",
       "  <thead>\n",
       "    <tr style=\"text-align: right;\">\n",
       "      <th></th>\n",
       "      <th>Model</th>\n",
       "      <th>Training Accuracy %</th>\n",
       "      <th>Testing Accuracy %</th>\n",
       "    </tr>\n",
       "  </thead>\n",
       "  <tbody>\n",
       "    <tr>\n",
       "      <th>0</th>\n",
       "      <td>Logistic Regression</td>\n",
       "      <td>98.965517</td>\n",
       "      <td>98.391421</td>\n",
       "    </tr>\n",
       "    <tr>\n",
       "      <th>1</th>\n",
       "      <td>K-nearest neighbors</td>\n",
       "      <td>96.321839</td>\n",
       "      <td>95.263628</td>\n",
       "    </tr>\n",
       "    <tr>\n",
       "      <th>2</th>\n",
       "      <td>Support Vector Machine</td>\n",
       "      <td>98.812261</td>\n",
       "      <td>98.570152</td>\n",
       "    </tr>\n",
       "    <tr>\n",
       "      <th>3</th>\n",
       "      <td>Decision Tree Classifier</td>\n",
       "      <td>99.923372</td>\n",
       "      <td>99.374441</td>\n",
       "    </tr>\n",
       "    <tr>\n",
       "      <th>4</th>\n",
       "      <td>Random Forest Classifier</td>\n",
       "      <td>99.923372</td>\n",
       "      <td>98.927614</td>\n",
       "    </tr>\n",
       "  </tbody>\n",
       "</table>\n",
       "</div>"
      ],
      "text/plain": [
       "                      Model  Training Accuracy %  Testing Accuracy %\n",
       "0       Logistic Regression            98.965517           98.391421\n",
       "1       K-nearest neighbors            96.321839           95.263628\n",
       "2    Support Vector Machine            98.812261           98.570152\n",
       "3  Decision Tree Classifier            99.923372           99.374441\n",
       "4  Random Forest Classifier            99.923372           98.927614"
      ]
     },
     "execution_count": 29,
     "metadata": {},
     "output_type": "execute_result"
    }
   ],
   "source": [
    "test_score = accuracy_score(y_test, rf_clf.predict(X_test)) * 100\n",
    "train_score = accuracy_score(y_train, rf_clf.predict(X_train)) * 100\n",
    "\n",
    "results_df_2 = pd.DataFrame(data=[[\"Random Forest Classifier\", train_score, test_score]], \n",
    "                          columns=['Model', 'Training Accuracy %', 'Testing Accuracy %'])\n",
    "results_df = pd.concat([results_df, results_df_2], ignore_index=True)\n",
    "results_df\n",
    "\n"
   ]
  },
  {
   "cell_type": "code",
   "execution_count": 32,
   "id": "7d47c55a",
   "metadata": {},
   "outputs": [
    {
     "name": "stdout",
     "output_type": "stream",
     "text": [
      "<class 'pandas.core.frame.DataFrame'>\n",
      "RangeIndex: 3729 entries, 0 to 3728\n",
      "Data columns (total 2 columns):\n",
      " #   Column  Non-Null Count  Dtype \n",
      "---  ------  --------------  ----- \n",
      " 0   label   3729 non-null   object\n",
      " 1   text    3721 non-null   object\n",
      "dtypes: object(2)\n",
      "memory usage: 58.4+ KB\n"
     ]
    }
   ],
   "source": [
    "df.info()"
   ]
  },
  {
   "cell_type": "code",
   "execution_count": 30,
   "id": "648d8273",
   "metadata": {},
   "outputs": [
    {
     "name": "stdout",
     "output_type": "stream",
     "text": [
      "Class distribution in the full dataset:\n",
      "label\n",
      "FAKE    1877\n",
      "REAL    1852\n",
      "Name: count, dtype: int64\n",
      "Class distribution in the training set:\n",
      "label\n",
      "FAKE    1319\n",
      "REAL    1291\n",
      "Name: count, dtype: int64\n"
     ]
    }
   ],
   "source": [
    "print(\"Class distribution in the full dataset:\")\n",
    "print(y.value_counts())  # Shows full dataset distribution\n",
    "\n",
    "print(\"Class distribution in the training set:\")\n",
    "print(y_train.value_counts())  # Shows training set distribution\n"
   ]
  }
 ],
 "metadata": {
  "kernelspec": {
   "display_name": ".venv",
   "language": "python",
   "name": "python3"
  },
  "language_info": {
   "codemirror_mode": {
    "name": "ipython",
    "version": 3
   },
   "file_extension": ".py",
   "mimetype": "text/x-python",
   "name": "python",
   "nbconvert_exporter": "python",
   "pygments_lexer": "ipython3",
   "version": "3.12.3"
  }
 },
 "nbformat": 4,
 "nbformat_minor": 5
}
