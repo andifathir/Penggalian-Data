{
 "cells": [
  {
   "cell_type": "markdown",
   "id": "b273b733",
   "metadata": {},
   "source": [
    "## Tugas 1"
   ]
  },
  {
   "cell_type": "code",
   "execution_count": 45,
   "id": "c9218309",
   "metadata": {},
   "outputs": [],
   "source": [
    "import pandas as pd\n",
    "import re\n",
    "import nltk\n",
    "from nltk.corpus import stopwords\n",
    "from nltk.stem import PorterStemmer, WordNetLemmatizer\n",
    "from sklearn.feature_extraction.text import CountVectorizer, TfidfVectorizer"
   ]
  },
  {
   "cell_type": "code",
   "execution_count": 46,
   "id": "7e15a4fd",
   "metadata": {},
   "outputs": [
    {
     "data": {
      "application/vnd.microsoft.datawrangler.viewer.v0+json": {
       "columns": [
        {
         "name": "index",
         "rawType": "int64",
         "type": "integer"
        },
        {
         "name": "label",
         "rawType": "object",
         "type": "string"
        },
        {
         "name": "text",
         "rawType": "object",
         "type": "string"
        }
       ],
       "conversionMethod": "pd.DataFrame",
       "ref": "7859efba-7325-4715-9bd4-c170fa0bf8ee",
       "rows": [
        [
         "0",
         "REAL",
         "Payal has accused filmmaker Anurag Kashyap of behaving inappropriately with her in a video that went viral. She maintained her stance while speaking to ETimes and said, “I have wanted to speak about this for a long time. But today, finally I thought I must get it off my head. I had tweeted about my incident sometime ago when the #MeToo movement had happened, but many people told me to delete the tweet else I would stop getting work. My manager too advised me to remove the tweet. I complied. Post that, Anurag blocked me on WhatsApp.”"
        ],
        [
         "1",
         "FAKE",
         "A four-minute-long video of a woman criticising the government at an anti-Citizenship Amendment Act rally in Delhi earlier in January is going viral with a false claim that the woman shows late Prime Minister Atal Bihari Vajpayee's niece.\n\nThe caption in Hindi translates to: \" Respected Vajpayee ji's niece has finally broken her silence, listen to what she has to say.\"\n\n\n\n(Translated from Hindi: माननीय वाजपयी जी की भतीजी ने आखिरकार तोड़ी चुप्पी | जानिए क्या कहा)\n\nAlso Read: Muslim Politician Disguised As A Hindu In Anti-CAA Protests?\n\nThe video comes at a time when protests against the Citizenship Amendment Act and a proposed National Register of Citizens have gone unabated for over a month.\n\nIn the video, the woman can be seen saying the following in Hindi.\n\n\"They (Britishers) did a lot of bad but at least they were outsiders. First of all, they were not ours, they were not from this land. They came from afar and came here to do this. But still, the difference between them (Indian government and Britishers) was that they (Britishers) were educated. They were not this illiterate. At least they didn't do this with Britishers that the government is doing with its own people. Why can't they understand they are Indian. They should talk about India. They tell Congress, they tell others, they tell us - why are you silent about Pakistan? Are we crazy that we should talk about Pakistan? Are you not enough to talk about Pakistan? You are obsessed with Pakistan. You can't think of anything else besides Pakistan. Whenever you speak you always speak about Pakistan. Who will talk about India? Pakistanis did not elect you, we elected you. And we regret electing you.\"\n\nBOOM also received the same video on its helpline from a user asking about its veracity.\n\nThe video received on the WhatsApp helpline.\n\nThe video is also viral on Facebook\n\nAlso read: Nehru, Indira Gandhi's Archival Image Goes Viral With False Claim\n\nFact Check\n\nBOOM ran a reverse image search and found that the video was uploaded by several YouTube channels nearly a week ago. The captions on the video identified the woman as Atiya Alvi.\n\n\n\nWe also noticed that the boom mic held in the video showed a logo of HNP news and found the video on their YouTube channel uploaded on January 3, 2020.\n\n\n\nFurthermore, we found a post by one Naziya Alvi Rahman who posted that the woman in the video was her sister Atiya Alvi.\n\n\n\nNaziya Alvi wrote, \"This is exactly how fake news spreads. Read the caption below. I so badly wish it was true but it isn't. She is my humble sister. Atiya Alvi Siddiqui\".\n\nBOOM contacted Atiya Alvi through Facebook. She confirmed that the woman in the video was her. \"I had gone to Mandi House for a protest and that's where this interview happened,\" Atiya told BOOM. She also said she wouldn't describe herself as an activist but rather a 'concerned citizen'.\n\n\n\nAtal Bihari Vajpayee's Niece Karuna Shukla\n\nAtal Bihari Vajpayee's niece is Karuna Shukla, who does not look like Atiya Alvi Siddiqui and is 70-year-old. Congress fielded Shukla in 2018 for the Vidhansabha election from Rajnandgaon in Chattisgarh. Karuna Shukla was a member of parliament and was a member of the Bharatiya Janata Party, but left the BJP post-2014. She has been vocal about state and other issues and accused the BJP of using Atal Bihari Vajpayee's death for political gains in the Lok Sabha elections of 2019.\n\n\n\n\n\n\n\n"
        ],
        [
         "2",
         "FAKE",
         "Republic Poll, a fake Twitter account imitating the Arnab Goswami-led Republic TV, is angering netizens with its controversial polls as Twitter users including journalists mistake it for the channel's official account.\n\n\n\nThe fake account (@RepublicPoll) uses a logo very similar to Republic TV's logo and does not mention in its bio whether it is related to Republic TV or if it is a fan account. Twitter's rules require that a fan account or parody account should indicate the same.\n\nAlso Read:Did Nita Ambani Ask For Support For CAA?\n\n\n\n\n\nSiddharth Varadarajan, founding editor of The Wire.in, in a now deleted tweet, had shared a screenshot of a poll by the fake account claiming it was a 'poll run by a \"nationalistic\" media house'.\n\nThis is hilarious. Despite the desperate phrasing of the question, this poll run by a \"nationalist\" media house has ended up condemning the innocent, \"minority in JNU\" ABVP. pic.twitter.com/gQGtzFEU26 — Siddharth (@svaradarajan) January 7, 2020\n\n\n\n\n\n\n\n\n\nAfter several Twitter users pointed out that the account was fake Varadarajan later clarified that it was a parody account.\n\nSo I am told @republicpoll is a parody account. Which kinda makes sense since Republic TV is a parody news channel! — Siddharth (@svaradarajan) January 7, 2020\n\n\n\n\n\n\"Nudge\" In polling via carefully placed words like 'goons' and 'minority in JNU' doesn't seem to work. pic.twitter.com/Vfa2dfxVST — Andy Mukherjee (@andymukherjee70) January 6, 2020\n\nClick here to view an archive.\n\nWe compared the official logo of Republic TV with the logo used by the fake Twitter account and found that they do not match. The fake account is not verified and created on April 1, 2019, whereas Republic TV official Twitter account was created in December 2016.\n\n\n\n\n\n\n\nRepublic TV (@Republic) has been conducting polls on its official Twitter handle.\n\n#TukdeGangSpotted | Is there a pattern to the protests? — Republic (@republic) January 6, 2020\n\nThe fake account has been regularly tweeting these polls, and while writing the article, it has 244 tweets, all of which are controversial polls. It currently has 2,671 Followers, whereas the official Republic TV Twitter account has 769 lakh followers and is not following it.\n\nLoaded Polls By '@RepublicPoll'\n\n\n\nThe fake account has been tweeting polls on recent issues framing it with an ideologically right wing slant. Click here to view an archive.\n\nClick here to view an archive.\n\n#SwaraBhaskar has no any valid document.\n\nThen the Question that arises is....\n\n\n\nHow this lately Anarkali travel all around the World without Passport ??? — Republic Poll (@RepublicPoll) January 5, 2020\n\nClick here to view an archive.\n\nSeveral Twitter users have taken on the account for its polls. The fake account has also deleted polls that are not favorable to it.\n\nDespite your best attempts at trying to sway the votes by calling JNU students goons and ABVP a minority, people's votes show who the culprit is and who the chutiya is. Ghar jao kutton. pic.twitter.com/8Of3ejMt3p — Rutuja/ऋतुजा🇮🇳 (@HavaldarShinde) January 6, 2020\n\n\n\n\n\n\n\n\n\n\n\n\n\n\n\n"
        ],
        [
         "3",
         "REAL",
         "Delhi teen finds place on UN green list, turns glass into sand\n\nNEW DELHI: Udit Singhal , who founded a startup to turn glass bottles into sand , has been named among 17 people in the United Nation’s 2020 Class of Young Leaders for Sustainable Development Goals (SDGs). The programme is a flagship initiative that recognises the efforts of young people in driving action and galvanising others in support of UN’s 2030 agenda for sustainable development.Singhal, an 18-year-old who lives near Mandi House, told TOI, “I feel proud to represent India. Along with 16 others, I’ll work to motivate youths and achieve SDGs. I hope to be able to encourage communities to inculcate better civic sense to create sustainable living spaces.” The teenager attended the UN function online due to the Covid pandemic. “In the normal scenario, I would have gone to New York,” he added.Singhal had founded Glass2Sand in 2019 as a zero-waste system that turns bottles into economically viable sand. “In 2018, I found a pile of bottles at home. During research, I learnt that ragpickers were not interested in collecting glass bottles because of little demand, high transportation cost and storage space. So empty glass bottles often ended up at the landfills. Do you know it takes a million years for a glass bottle to decompose?”Singhal then imported a machine from New Zealand with a special grant from the New Zealand High Commissioner in India and went to work helped by 65 volunteers, six diplomatic missions and four institutions, collecting bottles from across Delhi. “It takes five seconds to turn one empty glass bottle into sand. We have crushed 8,000 kg of bottles into 4,800 kg of high-grade silica sand so far,” he said. “This silica sand is commercially viable because it is used in construction, including roads and as lining in furnaces. It is more valuable than river sand in making concrete.”Singhal studied in The British School in Delhi and is currently a freshman at University College in London where he is a management sciences student.Other young leaders cited by Jayathma Wickramanayake, the UN Secretary-General’s Envoy on Youth, for “leading the way in shaping a more sustainable and inclusive future for all” belong to the United States, Turkey, China, Pakistan, Peru, Egypt, Senegal, Bulgaria, Nigeria, Brazil, Liberia, Ireland, Colombia, Australia, Uganda and Bangladesh."
        ],
        [
         "4",
         "REAL",
         "Delhi: A high-level meeting underway at residence of Rajya Sabha Chairman, Venkaiah Naidu, over the ruckus created… https://t.co/OfoRpOwd4b — ANI (@ANI) 1600599438000\n\nA watershed moment in the history of Indian agriculture! Congratulations to our hardworking farmers on the passage… https://t.co/CdLW6Itzmc — Narendra Modi (@narendramodi) 1600595449000\n\nFor decades, the Indian farmer was bound by various constraints and bullied by middlemen. The bills passed by Parli… https://t.co/GfF1nhaFeZ — Narendra Modi (@narendramodi) 1600595492000\n\nOur agriculture sector is in desperate need of latest technology that assists the industrious farmers. Now, with th… https://t.co/VGK1o0pPQb — Narendra Modi (@narendramodi) 1600595705000\n\nNEW DELHI: The Rajya Sabha on Sunday passed two key farm bills amid a bedlam as opposition members charged towards the podium of the presiding officer, flung the rule book at him, tore official papers and heckled him over their demand for a division of vote.Trouble started when the sitting of the House was extended beyond the scheduled time to allow passage of the bills. Opposition members, who felt such a move should be resorted to only by consensus, rushed into the Well, shouting slogans against the government and accusing it of being anti-farmer.This forced agriculture minister Narendra Singh Tomar to cut short his reply and deputy chairman Harivansh took up the approval of the bills.Four opposition sponsored motions to send the two bills to a House panel for greater scrutiny were negated by voice vote, but the Congress, TMC, CPM and DMK members sought a division of vote on the issue.As Harivansh over-ruled them saying division of votes can take place only when members are on their seat, TMC leader Derek O'Brien charged towards the podium, thrusting the rule book into the face of the Deputy Chairman.House marshals thwarted the move as also blocking a book that was flung towards Harivansh. An attempt was also made to pulls microphones away from the chair but the marshals physically stopped that from happening.DMK leader Tiruchi Siva, who along with O'Brien, K C Venugopal of Congress and K K Ragesh of CPM had moved resolutions for sending the bills to the select committee, tore papers and flung them into the air.Harivansh, who asked members to go back to their places and not come into the Well due to the Covid-19 protocol requiring physical separation, first muted the audio of the live proceedings but with the ruckus continuing, he adjourned the proceedings for 15 minutes.When the House reassembled, opposition parties chanted slogans but this did not prevent Harivansh from putting the bill to voice vote.As the first bill got voice approval of the House and motions for sending it to a select committee were rejected, at least two members tried to climb on the table of Rajya Sabha officers but were pulled down.Both the bills were passed by voice vote and amendments moved by the opposition parties rejectedHowever, the Congress and other opposition party members sat in protest inside Rajya Sabha even after the House was adjourned for the day after the passage of the two farm bills.The House sitting ends at 1pm and Rajya Sabha chamber has to be sanitised by 3pm when Lok Sabha sits for a session. Both the chambers of Lok Sabha and Rajya Sabha are being used for each House to allow members to follow physical distancing norms.As a result, Lok Sabha had to be adjourned till 4pm as Congress members demanded that the House proceedings should not take place till Rajya Sabha galleries are cleared of the agitating members of the Upper House.Meanwhile, Rajya Sabha Chairman M Venkaiah Naidu convened a high-level meeting at his residence and is likely to take action against those who created ruckus in the Upper House.Sources told news agency ANI that Rajya Sabha chairman is very upset with the incident and is likely to take action against those who raised slogans against the chair and tore papers.Shortly after the passage of the bills, SAD chief Sukhbir Singh Badal urged President Ram Nath Kovind not to give his assent to the legislations and return them to Parliament for reconsideration.Badal's party had earlier pulled out Harsimrat Kaur Badal from the Union Cabinet in protest against the bills.Meanwhile, Prime Minister Narendra Modi hailed Parliament's nod to the two bills on Sunday, describing the passage as a \"watershed moment\" in the history of Indian agriculture.He asserted that they will ensure a complete transformation of the farm sector and empower crores of farmers.In a series of tweets, PM Modi said these proposed laws will liberate farmers from numerous adversities as he noted that peasants were for decades bound by various constraints and bullied by middlemen.He again assured farmers that the existing government support system for them will continue.Farmers in states like Punjab and Haryana have been protesting against these bills, with their leaders alleging that the legislations will dismantle the existing system and leave them to the mercy of corporate interests.BJP president J P Nadda said the legislations will give farmers freedom in selling their produce and rid them of middlemen.He also hit out at the opposition parties over the ruckus in the Rajya Sabha after the Chair proceeded to take up the bills for passage as he termed the behaviour \"highly irresponsible\" and an attack on democracy, and hoped that the House chairman will take note of that.Opposition members also violated Covid-19 protocols by storming the Well of the House, he told reporters."
        ]
       ],
       "shape": {
        "columns": 2,
        "rows": 5
       }
      },
      "text/html": [
       "<div>\n",
       "<style scoped>\n",
       "    .dataframe tbody tr th:only-of-type {\n",
       "        vertical-align: middle;\n",
       "    }\n",
       "\n",
       "    .dataframe tbody tr th {\n",
       "        vertical-align: top;\n",
       "    }\n",
       "\n",
       "    .dataframe thead th {\n",
       "        text-align: right;\n",
       "    }\n",
       "</style>\n",
       "<table border=\"1\" class=\"dataframe\">\n",
       "  <thead>\n",
       "    <tr style=\"text-align: right;\">\n",
       "      <th></th>\n",
       "      <th>label</th>\n",
       "      <th>text</th>\n",
       "    </tr>\n",
       "  </thead>\n",
       "  <tbody>\n",
       "    <tr>\n",
       "      <th>0</th>\n",
       "      <td>REAL</td>\n",
       "      <td>Payal has accused filmmaker Anurag Kashyap of ...</td>\n",
       "    </tr>\n",
       "    <tr>\n",
       "      <th>1</th>\n",
       "      <td>FAKE</td>\n",
       "      <td>A four-minute-long video of a woman criticisin...</td>\n",
       "    </tr>\n",
       "    <tr>\n",
       "      <th>2</th>\n",
       "      <td>FAKE</td>\n",
       "      <td>Republic Poll, a fake Twitter account imitatin...</td>\n",
       "    </tr>\n",
       "    <tr>\n",
       "      <th>3</th>\n",
       "      <td>REAL</td>\n",
       "      <td>Delhi teen finds place on UN green list, turns...</td>\n",
       "    </tr>\n",
       "    <tr>\n",
       "      <th>4</th>\n",
       "      <td>REAL</td>\n",
       "      <td>Delhi: A high-level meeting underway at reside...</td>\n",
       "    </tr>\n",
       "  </tbody>\n",
       "</table>\n",
       "</div>"
      ],
      "text/plain": [
       "  label                                               text\n",
       "0  REAL  Payal has accused filmmaker Anurag Kashyap of ...\n",
       "1  FAKE  A four-minute-long video of a woman criticisin...\n",
       "2  FAKE  Republic Poll, a fake Twitter account imitatin...\n",
       "3  REAL  Delhi teen finds place on UN green list, turns...\n",
       "4  REAL  Delhi: A high-level meeting underway at reside..."
      ]
     },
     "execution_count": 46,
     "metadata": {},
     "output_type": "execute_result"
    }
   ],
   "source": [
    "# Load the dataset\n",
    "file_path = 'Tugas 1_NIM Genap_Modul 4.csv'\n",
    "df = pd.read_csv(file_path)\n",
    "\n",
    "text_column = 'text'  # Replace with the actual column name containing text\n",
    "label_column = 'label'  # Replace with the actual label column name\n",
    "\n",
    "# Show the first few rows of the dataset\n",
    "df.head()"
   ]
  },
  {
   "cell_type": "code",
   "execution_count": 47,
   "id": "97a7ecf1",
   "metadata": {},
   "outputs": [
    {
     "name": "stderr",
     "output_type": "stream",
     "text": [
      "[nltk_data] Downloading package stopwords to\n",
      "[nltk_data]     C:\\Users\\andif\\AppData\\Roaming\\nltk_data...\n",
      "[nltk_data]   Package stopwords is already up-to-date!\n",
      "[nltk_data] Downloading package wordnet to\n",
      "[nltk_data]     C:\\Users\\andif\\AppData\\Roaming\\nltk_data...\n",
      "[nltk_data]   Package wordnet is already up-to-date!\n"
     ]
    },
    {
     "data": {
      "text/plain": [
       "True"
      ]
     },
     "execution_count": 47,
     "metadata": {},
     "output_type": "execute_result"
    }
   ],
   "source": [
    "# Initialize the stemmer and lemmatizer\n",
    "stemmer = PorterStemmer()\n",
    "lemmatizer = WordNetLemmatizer()\n",
    "\n",
    "# Download necessary NLTK resources\n",
    "nltk.download('stopwords')\n",
    "nltk.download('wordnet')"
   ]
  },
  {
   "cell_type": "markdown",
   "id": "f4781d8b",
   "metadata": {},
   "source": [
    "# Preprocessing"
   ]
  },
  {
   "cell_type": "code",
   "execution_count": 48,
   "id": "7e952a49",
   "metadata": {},
   "outputs": [],
   "source": [
    "# 1. Case Folding\n",
    "def case_folding(text):\n",
    "    if isinstance(text, str):  # Check if the value is a string\n",
    "        return text.lower()\n",
    "    else:\n",
    "        return \"\"  # Return an empty string for non-string values"
   ]
  },
  {
   "cell_type": "code",
   "execution_count": 49,
   "id": "a832867a",
   "metadata": {},
   "outputs": [],
   "source": [
    "# 2. Data Cleaning (remove unwanted characters)\n",
    "def clean_text(text):\n",
    "    # Remove HTML tags, URLs, mentions (@user), hashtags (#), emojis, digits, and punctuation\n",
    "    text = re.sub(r'<.*?>', '', text)  # Remove HTML tags\n",
    "    text = re.sub(r'http\\S+', '', text)  # Remove URLs\n",
    "    text = re.sub(r'@\\w+', '', text)  # Remove mentions\n",
    "    text = re.sub(r'#\\w+', '', text)  # Remove hashtags\n",
    "    text = re.sub(r'[^\\w\\s]', '', text)  # Remove punctuation\n",
    "    text = re.sub(r'\\d+', '', text)  # Remove digits\n",
    "    text = re.sub(r'[\\U00010000-\\U0010ffff]', '', text)  # Remove emojis\n",
    "    return text"
   ]
  },
  {
   "cell_type": "code",
   "execution_count": 50,
   "id": "aa8a6a52",
   "metadata": {},
   "outputs": [],
   "source": [
    "# 3. Tokenization\n",
    "def tokenize(text):\n",
    "    return text.split()"
   ]
  },
  {
   "cell_type": "code",
   "execution_count": 51,
   "id": "23bc4f40",
   "metadata": {},
   "outputs": [],
   "source": [
    "# 4. Stopwords Removal\n",
    "def remove_stopwords(tokens):\n",
    "    stop_words = set(stopwords.words('indonesian'))  # Change to 'english' for English stopwords\n",
    "    return [word for word in tokens if word not in stop_words]"
   ]
  },
  {
   "cell_type": "code",
   "execution_count": 52,
   "id": "9215e5fd",
   "metadata": {},
   "outputs": [],
   "source": [
    "# 5. Stemming and Lemmatization\n",
    "def stem_and_lemmatize(tokens, use_stemming=True):\n",
    "    if use_stemming:\n",
    "        return [stemmer.stem(word) for word in tokens]\n",
    "    else:\n",
    "        return [lemmatizer.lemmatize(word) for word in tokens]"
   ]
  },
  {
   "cell_type": "code",
   "execution_count": 53,
   "id": "d81f5dca",
   "metadata": {},
   "outputs": [],
   "source": [
    "# 6. Manual Padding/Truncating\n",
    "def padding_truncating(tokens, max_len=100):\n",
    "    # If the sequence is shorter than max_len, pad with 'PAD' tokens\n",
    "    if len(tokens) < max_len:\n",
    "        tokens += ['PAD'] * (max_len - len(tokens))\n",
    "    # If the sequence is longer than max_len, truncate it\n",
    "    elif len(tokens) > max_len:\n",
    "        tokens = tokens[:max_len]\n",
    "    return tokens"
   ]
  },
  {
   "cell_type": "code",
   "execution_count": 54,
   "id": "850c13f3",
   "metadata": {},
   "outputs": [],
   "source": [
    "# # 7. Text-to-Numeric Transformation (Bag of Words or TF-IDF)\n",
    "# def text_to_numeric(tokens, method='bow'):\n",
    "#     if method == 'bow':\n",
    "#         vectorizer = CountVectorizer()\n",
    "#         return vectorizer.fit_transform([' '.join(tokens)]).toarray()\n",
    "#     elif method == 'tfidf':\n",
    "#         vectorizer = TfidfVectorizer()\n",
    "#         return vectorizer.fit_transform([' '.join(tokens)]).toarray()"
   ]
  },
  {
   "cell_type": "code",
   "execution_count": 55,
   "id": "19ef077d",
   "metadata": {},
   "outputs": [],
   "source": [
    "# Apply all steps to the dataset\n",
    "def preprocess_text(text, use_stemming=True):\n",
    "    text = case_folding(text)  # Step 1: Case folding\n",
    "    text = clean_text(text)  # Step 2: Data cleaning\n",
    "    tokens = tokenize(text)  # Step 3: Tokenization\n",
    "    tokens = remove_stopwords(tokens)  # Step 4: Stopwords removal\n",
    "    tokens = stem_and_lemmatize(tokens, use_stemming)  # Step 5: Stemming/Lemmatization\n",
    "    return tokens"
   ]
  },
  {
   "cell_type": "code",
   "execution_count": 56,
   "id": "eeb46862",
   "metadata": {},
   "outputs": [],
   "source": [
    "# Apply preprocessing to each row in the dataset\n",
    "df['processed_text'] = df[text_column].apply(preprocess_text)"
   ]
  },
  {
   "cell_type": "code",
   "execution_count": 57,
   "id": "9e49a708",
   "metadata": {},
   "outputs": [],
   "source": [
    "# Example of Padding/Truncating and Text-to-Numeric Transformation\n",
    "# Assuming 'processed_text' column contains tokenized text\n",
    "df['padded_text'] = df['processed_text'].apply(lambda x: padding_truncating(x, max_len=100))"
   ]
  },
  {
   "cell_type": "code",
   "execution_count": 58,
   "id": "23d22f89",
   "metadata": {},
   "outputs": [],
   "source": [
    "# # Example of text-to-numeric transformation using TF-IDF\n",
    "# df['numeric_tfidf'] = df['processed_text'].apply(lambda x: text_to_numeric(x, method='tfidf'))"
   ]
  },
  {
   "cell_type": "code",
   "execution_count": 59,
   "id": "76b48297",
   "metadata": {},
   "outputs": [],
   "source": [
    "# 8. Label Encoding\n",
    "def encode_labels(df, label_column):\n",
    "    encoder = LabelEncoder()\n",
    "    df[label_column] = encoder.fit_transform(df[label_column])\n",
    "    return df"
   ]
  },
  {
   "cell_type": "markdown",
   "id": "a883730b",
   "metadata": {},
   "source": [
    "# Models Building"
   ]
  },
  {
   "cell_type": "code",
   "execution_count": 60,
   "id": "5938194c",
   "metadata": {},
   "outputs": [],
   "source": [
    "import pandas as pd\n",
    "from sklearn.model_selection import train_test_split\n",
    "from sklearn.feature_extraction.text import TfidfVectorizer\n",
    "from sklearn.linear_model import LogisticRegression\n",
    "from sklearn.metrics import accuracy_score, classification_report\n",
    "from sklearn.preprocessing import LabelEncoder"
   ]
  },
  {
   "cell_type": "code",
   "execution_count": 61,
   "id": "87da3f66",
   "metadata": {},
   "outputs": [],
   "source": [
    "from sklearn.metrics import accuracy_score, confusion_matrix, classification_report\n",
    "\n",
    "def print_score(clf, X_train, y_train, X_test, y_test, train=True):\n",
    "    if train:\n",
    "        pred = clf.predict(X_train)\n",
    "        clf_report = pd.DataFrame(classification_report(y_train, pred, output_dict=True))\n",
    "        print(\"Train Result:\\n================================================\")\n",
    "        print(f\"Accuracy Score: {accuracy_score(y_train, pred) * 100:.2f}%\")\n",
    "        print(\"_______________________________________________\")\n",
    "        print(f\"CLASSIFICATION REPORT:\\n{clf_report}\")\n",
    "        print(\"_______________________________________________\")\n",
    "        print(f\"Confusion Matrix: \\n {confusion_matrix(y_train, pred)}\\n\")\n",
    "        \n",
    "    elif train==False:\n",
    "        pred = clf.predict(X_test)\n",
    "        clf_report = pd.DataFrame(classification_report(y_test, pred, output_dict=True))\n",
    "        print(\"Test Result:\\n================================================\")        \n",
    "        print(f\"Accuracy Score: {accuracy_score(y_test, pred) * 100:.2f}%\")\n",
    "        print(\"_______________________________________________\")\n",
    "        print(f\"CLASSIFICATION REPORT:\\n{clf_report}\")\n",
    "        print(\"_______________________________________________\")\n",
    "        print(f\"Confusion Matrix: \\n {confusion_matrix(y_test, pred)}\\n\")"
   ]
  },
  {
   "cell_type": "code",
   "execution_count": 62,
   "id": "f45866b6",
   "metadata": {},
   "outputs": [],
   "source": [
    "from sklearn.model_selection import train_test_split\n",
    "\n",
    "X = df['processed_text'].apply(lambda x: ' '.join(x))  # Join tokens back into text for TF-IDF\n",
    "y = df['label']  # The encoded label column\n",
    "\n",
    "X_train, X_test, y_train, y_test = train_test_split(X, y, test_size=0.3, random_state=42)\n",
    "\n",
    "# 1. Text Vectorization using TF-IDF\n",
    "tfidf_vectorizer = TfidfVectorizer(max_features=5000)  # Set max features to limit the number of tokens\n",
    "X_train = tfidf_vectorizer.fit_transform(X_train)\n",
    "X_test = tfidf_vectorizer.transform(X_test)"
   ]
  },
  {
   "cell_type": "markdown",
   "id": "0502c512",
   "metadata": {},
   "source": [
    "# 1. Logistic Regression"
   ]
  },
  {
   "cell_type": "code",
   "execution_count": 63,
   "id": "f0b7871d",
   "metadata": {},
   "outputs": [
    {
     "name": "stdout",
     "output_type": "stream",
     "text": [
      "Train Result:\n",
      "================================================\n",
      "Accuracy Score: 98.97%\n",
      "_______________________________________________\n",
      "CLASSIFICATION REPORT:\n",
      "                  FAKE         REAL  accuracy    macro avg  weighted avg\n",
      "precision     0.997689     0.981707  0.989655     0.989698      0.989784\n",
      "recall        0.981804     0.997676  0.989655     0.989740      0.989655\n",
      "f1-score      0.989683     0.989627  0.989655     0.989655      0.989655\n",
      "support    1319.000000  1291.000000  0.989655  2610.000000   2610.000000\n",
      "_______________________________________________\n",
      "Confusion Matrix: \n",
      " [[1295   24]\n",
      " [   3 1288]]\n",
      "\n",
      "Test Result:\n",
      "================================================\n",
      "Accuracy Score: 98.39%\n",
      "_______________________________________________\n",
      "CLASSIFICATION REPORT:\n",
      "                 FAKE        REAL  accuracy    macro avg  weighted avg\n",
      "precision    0.996324    0.972174  0.983914     0.984249      0.984216\n",
      "recall       0.971326    0.996435  0.983914     0.983881      0.983914\n",
      "f1-score     0.983666    0.984155  0.983914     0.983910      0.983911\n",
      "support    558.000000  561.000000  0.983914  1119.000000   1119.000000\n",
      "_______________________________________________\n",
      "Confusion Matrix: \n",
      " [[542  16]\n",
      " [  2 559]]\n",
      "\n"
     ]
    }
   ],
   "source": [
    "from sklearn.linear_model import LogisticRegression\n",
    "\n",
    "lr_clf = LogisticRegression(solver='liblinear')\n",
    "lr_clf.fit(X_train, y_train)\n",
    "\n",
    "print_score(lr_clf, X_train, y_train, X_test, y_test, train=True)\n",
    "print_score(lr_clf, X_train, y_train, X_test, y_test, train=False)"
   ]
  },
  {
   "cell_type": "code",
   "execution_count": 64,
   "id": "9c8b4120",
   "metadata": {},
   "outputs": [
    {
     "data": {
      "application/vnd.microsoft.datawrangler.viewer.v0+json": {
       "columns": [
        {
         "name": "index",
         "rawType": "int64",
         "type": "integer"
        },
        {
         "name": "Model",
         "rawType": "object",
         "type": "string"
        },
        {
         "name": "Training Accuracy %",
         "rawType": "float64",
         "type": "float"
        },
        {
         "name": "Testing Accuracy %",
         "rawType": "float64",
         "type": "float"
        }
       ],
       "conversionMethod": "pd.DataFrame",
       "ref": "593e7ba7-1705-416c-b3b7-33a44e04d96a",
       "rows": [
        [
         "0",
         "Logistic Regression",
         "98.9655172413793",
         "98.39142091152814"
        ]
       ],
       "shape": {
        "columns": 3,
        "rows": 1
       }
      },
      "text/html": [
       "<div>\n",
       "<style scoped>\n",
       "    .dataframe tbody tr th:only-of-type {\n",
       "        vertical-align: middle;\n",
       "    }\n",
       "\n",
       "    .dataframe tbody tr th {\n",
       "        vertical-align: top;\n",
       "    }\n",
       "\n",
       "    .dataframe thead th {\n",
       "        text-align: right;\n",
       "    }\n",
       "</style>\n",
       "<table border=\"1\" class=\"dataframe\">\n",
       "  <thead>\n",
       "    <tr style=\"text-align: right;\">\n",
       "      <th></th>\n",
       "      <th>Model</th>\n",
       "      <th>Training Accuracy %</th>\n",
       "      <th>Testing Accuracy %</th>\n",
       "    </tr>\n",
       "  </thead>\n",
       "  <tbody>\n",
       "    <tr>\n",
       "      <th>0</th>\n",
       "      <td>Logistic Regression</td>\n",
       "      <td>98.965517</td>\n",
       "      <td>98.391421</td>\n",
       "    </tr>\n",
       "  </tbody>\n",
       "</table>\n",
       "</div>"
      ],
      "text/plain": [
       "                 Model  Training Accuracy %  Testing Accuracy %\n",
       "0  Logistic Regression            98.965517           98.391421"
      ]
     },
     "execution_count": 64,
     "metadata": {},
     "output_type": "execute_result"
    }
   ],
   "source": [
    "test_score = accuracy_score(y_test, lr_clf.predict(X_test)) * 100\n",
    "train_score = accuracy_score(y_train, lr_clf.predict(X_train)) * 100\n",
    "\n",
    "results_df = pd.DataFrame(data=[[\"Logistic Regression\", train_score, test_score]], columns=['Model', 'Training Accuracy %', 'Testing Accuracy %'])\n",
    "results_df"
   ]
  },
  {
   "cell_type": "markdown",
   "id": "9bfe17b2",
   "metadata": {},
   "source": [
    "# 2. K-nearest neighbors"
   ]
  },
  {
   "cell_type": "code",
   "execution_count": 65,
   "id": "dd9f52cc",
   "metadata": {},
   "outputs": [
    {
     "name": "stdout",
     "output_type": "stream",
     "text": [
      "Train Result:\n",
      "================================================\n",
      "Accuracy Score: 96.32%\n",
      "_______________________________________________\n",
      "CLASSIFICATION REPORT:\n",
      "                  FAKE         REAL  accuracy    macro avg  weighted avg\n",
      "precision     0.937098     0.993394  0.963218     0.965246      0.964944\n",
      "recall        0.993935     0.931836  0.963218     0.962885      0.963218\n",
      "f1-score      0.964680     0.961631  0.963218     0.963155      0.963172\n",
      "support    1319.000000  1291.000000  0.963218  2610.000000   2610.000000\n",
      "_______________________________________________\n",
      "Confusion Matrix: \n",
      " [[1311    8]\n",
      " [  88 1203]]\n",
      "\n",
      "Test Result:\n",
      "================================================\n",
      "Accuracy Score: 95.26%\n",
      "_______________________________________________\n",
      "CLASSIFICATION REPORT:\n",
      "                 FAKE        REAL  accuracy    macro avg  weighted avg\n",
      "precision    0.924370    0.984733  0.952636     0.954551      0.954632\n",
      "recall       0.985663    0.919786  0.952636     0.952725      0.952636\n",
      "f1-score     0.954033    0.951152  0.952636     0.952593      0.952589\n",
      "support    558.000000  561.000000  0.952636  1119.000000   1119.000000\n",
      "_______________________________________________\n",
      "Confusion Matrix: \n",
      " [[550   8]\n",
      " [ 45 516]]\n",
      "\n"
     ]
    }
   ],
   "source": [
    "from sklearn.neighbors import KNeighborsClassifier\n",
    "\n",
    "knn_clf = KNeighborsClassifier()\n",
    "knn_clf.fit(X_train, y_train)\n",
    "\n",
    "print_score(knn_clf, X_train, y_train, X_test, y_test, train=True)\n",
    "print_score(knn_clf, X_train, y_train, X_test, y_test, train=False)"
   ]
  },
  {
   "cell_type": "code",
   "execution_count": 66,
   "id": "303ea417",
   "metadata": {},
   "outputs": [
    {
     "data": {
      "application/vnd.microsoft.datawrangler.viewer.v0+json": {
       "columns": [
        {
         "name": "index",
         "rawType": "int64",
         "type": "integer"
        },
        {
         "name": "Model",
         "rawType": "object",
         "type": "string"
        },
        {
         "name": "Training Accuracy %",
         "rawType": "float64",
         "type": "float"
        },
        {
         "name": "Testing Accuracy %",
         "rawType": "float64",
         "type": "float"
        }
       ],
       "conversionMethod": "pd.DataFrame",
       "ref": "dee20d67-09e1-4a5b-8a96-02a53f6fa745",
       "rows": [
        [
         "0",
         "Logistic Regression",
         "98.9655172413793",
         "98.39142091152814"
        ],
        [
         "1",
         "K-nearest neighbors",
         "96.32183908045977",
         "95.26362823949955"
        ]
       ],
       "shape": {
        "columns": 3,
        "rows": 2
       }
      },
      "text/html": [
       "<div>\n",
       "<style scoped>\n",
       "    .dataframe tbody tr th:only-of-type {\n",
       "        vertical-align: middle;\n",
       "    }\n",
       "\n",
       "    .dataframe tbody tr th {\n",
       "        vertical-align: top;\n",
       "    }\n",
       "\n",
       "    .dataframe thead th {\n",
       "        text-align: right;\n",
       "    }\n",
       "</style>\n",
       "<table border=\"1\" class=\"dataframe\">\n",
       "  <thead>\n",
       "    <tr style=\"text-align: right;\">\n",
       "      <th></th>\n",
       "      <th>Model</th>\n",
       "      <th>Training Accuracy %</th>\n",
       "      <th>Testing Accuracy %</th>\n",
       "    </tr>\n",
       "  </thead>\n",
       "  <tbody>\n",
       "    <tr>\n",
       "      <th>0</th>\n",
       "      <td>Logistic Regression</td>\n",
       "      <td>98.965517</td>\n",
       "      <td>98.391421</td>\n",
       "    </tr>\n",
       "    <tr>\n",
       "      <th>1</th>\n",
       "      <td>K-nearest neighbors</td>\n",
       "      <td>96.321839</td>\n",
       "      <td>95.263628</td>\n",
       "    </tr>\n",
       "  </tbody>\n",
       "</table>\n",
       "</div>"
      ],
      "text/plain": [
       "                 Model  Training Accuracy %  Testing Accuracy %\n",
       "0  Logistic Regression            98.965517           98.391421\n",
       "1  K-nearest neighbors            96.321839           95.263628"
      ]
     },
     "execution_count": 66,
     "metadata": {},
     "output_type": "execute_result"
    }
   ],
   "source": [
    "test_score = accuracy_score(y_test, knn_clf.predict(X_test)) * 100\n",
    "train_score = accuracy_score(y_train, knn_clf.predict(X_train)) * 100\n",
    "\n",
    "results_df_2 = pd.DataFrame(data=[[\"K-nearest neighbors\", train_score, test_score]], \n",
    "                          columns=['Model', 'Training Accuracy %', 'Testing Accuracy %'])\n",
    "results_df = pd.concat([results_df, results_df_2], ignore_index=True)\n",
    "results_df"
   ]
  },
  {
   "cell_type": "markdown",
   "id": "5210c935",
   "metadata": {},
   "source": [
    "# 3. Support Vector Machine"
   ]
  },
  {
   "cell_type": "code",
   "execution_count": 67,
   "id": "dd83734f",
   "metadata": {},
   "outputs": [
    {
     "name": "stdout",
     "output_type": "stream",
     "text": [
      "Train Result:\n",
      "================================================\n",
      "Accuracy Score: 98.81%\n",
      "_______________________________________________\n",
      "CLASSIFICATION REPORT:\n",
      "                  FAKE         REAL  accuracy    macro avg  weighted avg\n",
      "precision     0.996148     0.980183  0.988123     0.988165      0.988251\n",
      "recall        0.980288     0.996127  0.988123     0.988208      0.988123\n",
      "f1-score      0.988154     0.988091  0.988123     0.988123      0.988123\n",
      "support    1319.000000  1291.000000  0.988123  2610.000000   2610.000000\n",
      "_______________________________________________\n",
      "Confusion Matrix: \n",
      " [[1293   26]\n",
      " [   5 1286]]\n",
      "\n",
      "Test Result:\n",
      "================================================\n",
      "Accuracy Score: 98.57%\n",
      "_______________________________________________\n",
      "CLASSIFICATION REPORT:\n",
      "                 FAKE        REAL  accuracy    macro avg  weighted avg\n",
      "precision    0.994526    0.977233  0.985702     0.985879      0.985856\n",
      "recall       0.976703    0.994652  0.985702     0.985677      0.985702\n",
      "f1-score     0.985533    0.985866  0.985702     0.985700      0.985700\n",
      "support    558.000000  561.000000  0.985702  1119.000000   1119.000000\n",
      "_______________________________________________\n",
      "Confusion Matrix: \n",
      " [[545  13]\n",
      " [  3 558]]\n",
      "\n"
     ]
    }
   ],
   "source": [
    "from sklearn.svm import SVC\n",
    "\n",
    "\n",
    "svm_clf = SVC(kernel='rbf', gamma=0.1, C=1.0)\n",
    "svm_clf.fit(X_train, y_train)\n",
    "\n",
    "print_score(svm_clf, X_train, y_train, X_test, y_test, train=True)\n",
    "print_score(svm_clf, X_train, y_train, X_test, y_test, train=False)"
   ]
  },
  {
   "cell_type": "code",
   "execution_count": 68,
   "id": "edf60065",
   "metadata": {},
   "outputs": [
    {
     "data": {
      "application/vnd.microsoft.datawrangler.viewer.v0+json": {
       "columns": [
        {
         "name": "index",
         "rawType": "int64",
         "type": "integer"
        },
        {
         "name": "Model",
         "rawType": "object",
         "type": "string"
        },
        {
         "name": "Training Accuracy %",
         "rawType": "float64",
         "type": "float"
        },
        {
         "name": "Testing Accuracy %",
         "rawType": "float64",
         "type": "float"
        }
       ],
       "conversionMethod": "pd.DataFrame",
       "ref": "3daca390-087b-4c2a-ad3d-063a09d0b13b",
       "rows": [
        [
         "0",
         "Logistic Regression",
         "98.9655172413793",
         "98.39142091152814"
        ],
        [
         "1",
         "K-nearest neighbors",
         "96.32183908045977",
         "95.26362823949955"
        ],
        [
         "2",
         "Support Vector Machine",
         "98.81226053639847",
         "98.57015192135835"
        ]
       ],
       "shape": {
        "columns": 3,
        "rows": 3
       }
      },
      "text/html": [
       "<div>\n",
       "<style scoped>\n",
       "    .dataframe tbody tr th:only-of-type {\n",
       "        vertical-align: middle;\n",
       "    }\n",
       "\n",
       "    .dataframe tbody tr th {\n",
       "        vertical-align: top;\n",
       "    }\n",
       "\n",
       "    .dataframe thead th {\n",
       "        text-align: right;\n",
       "    }\n",
       "</style>\n",
       "<table border=\"1\" class=\"dataframe\">\n",
       "  <thead>\n",
       "    <tr style=\"text-align: right;\">\n",
       "      <th></th>\n",
       "      <th>Model</th>\n",
       "      <th>Training Accuracy %</th>\n",
       "      <th>Testing Accuracy %</th>\n",
       "    </tr>\n",
       "  </thead>\n",
       "  <tbody>\n",
       "    <tr>\n",
       "      <th>0</th>\n",
       "      <td>Logistic Regression</td>\n",
       "      <td>98.965517</td>\n",
       "      <td>98.391421</td>\n",
       "    </tr>\n",
       "    <tr>\n",
       "      <th>1</th>\n",
       "      <td>K-nearest neighbors</td>\n",
       "      <td>96.321839</td>\n",
       "      <td>95.263628</td>\n",
       "    </tr>\n",
       "    <tr>\n",
       "      <th>2</th>\n",
       "      <td>Support Vector Machine</td>\n",
       "      <td>98.812261</td>\n",
       "      <td>98.570152</td>\n",
       "    </tr>\n",
       "  </tbody>\n",
       "</table>\n",
       "</div>"
      ],
      "text/plain": [
       "                    Model  Training Accuracy %  Testing Accuracy %\n",
       "0     Logistic Regression            98.965517           98.391421\n",
       "1     K-nearest neighbors            96.321839           95.263628\n",
       "2  Support Vector Machine            98.812261           98.570152"
      ]
     },
     "execution_count": 68,
     "metadata": {},
     "output_type": "execute_result"
    }
   ],
   "source": [
    "test_score = accuracy_score(y_test, svm_clf.predict(X_test)) * 100\n",
    "train_score = accuracy_score(y_train, svm_clf.predict(X_train)) * 100\n",
    "\n",
    "results_df_2 = pd.DataFrame(data=[[\"Support Vector Machine\", train_score, test_score]], \n",
    "                          columns=['Model', 'Training Accuracy %', 'Testing Accuracy %'])\n",
    "results_df = pd.concat([results_df, results_df_2], ignore_index=True)\n",
    "results_df"
   ]
  },
  {
   "cell_type": "markdown",
   "id": "efca2ca1",
   "metadata": {},
   "source": [
    "# 4. Decision Tree Classifier"
   ]
  },
  {
   "cell_type": "code",
   "execution_count": 69,
   "id": "7c1daddf",
   "metadata": {},
   "outputs": [
    {
     "name": "stdout",
     "output_type": "stream",
     "text": [
      "Train Result:\n",
      "================================================\n",
      "Accuracy Score: 99.92%\n",
      "_______________________________________________\n",
      "CLASSIFICATION REPORT:\n",
      "                  FAKE         REAL  accuracy    macro avg  weighted avg\n",
      "precision     0.998486     1.000000  0.999234     0.999243      0.999235\n",
      "recall        1.000000     0.998451  0.999234     0.999225      0.999234\n",
      "f1-score      0.999242     0.999225  0.999234     0.999234      0.999234\n",
      "support    1319.000000  1291.000000  0.999234  2610.000000   2610.000000\n",
      "_______________________________________________\n",
      "Confusion Matrix: \n",
      " [[1319    0]\n",
      " [   2 1289]]\n",
      "\n",
      "Test Result:\n",
      "================================================\n",
      "Accuracy Score: 99.37%\n",
      "_______________________________________________\n",
      "CLASSIFICATION REPORT:\n",
      "                 FAKE        REAL  accuracy    macro avg  weighted avg\n",
      "precision    0.992844    0.994643  0.993744     0.993744      0.993746\n",
      "recall       0.994624    0.992870  0.993744     0.993747      0.993744\n",
      "f1-score     0.993733    0.993756  0.993744     0.993744      0.993744\n",
      "support    558.000000  561.000000  0.993744  1119.000000   1119.000000\n",
      "_______________________________________________\n",
      "Confusion Matrix: \n",
      " [[555   3]\n",
      " [  4 557]]\n",
      "\n"
     ]
    }
   ],
   "source": [
    "from sklearn.tree import DecisionTreeClassifier\n",
    "\n",
    "\n",
    "tree_clf = DecisionTreeClassifier(random_state=42)\n",
    "tree_clf.fit(X_train, y_train)\n",
    "\n",
    "print_score(tree_clf, X_train, y_train, X_test, y_test, train=True)\n",
    "print_score(tree_clf, X_train, y_train, X_test, y_test, train=False)"
   ]
  },
  {
   "cell_type": "code",
   "execution_count": 70,
   "id": "525d09d7",
   "metadata": {},
   "outputs": [
    {
     "data": {
      "application/vnd.microsoft.datawrangler.viewer.v0+json": {
       "columns": [
        {
         "name": "index",
         "rawType": "int64",
         "type": "integer"
        },
        {
         "name": "Model",
         "rawType": "object",
         "type": "string"
        },
        {
         "name": "Training Accuracy %",
         "rawType": "float64",
         "type": "float"
        },
        {
         "name": "Testing Accuracy %",
         "rawType": "float64",
         "type": "float"
        }
       ],
       "conversionMethod": "pd.DataFrame",
       "ref": "0bc768f1-9c59-43db-9d4f-58461bdf85d1",
       "rows": [
        [
         "0",
         "Logistic Regression",
         "98.9655172413793",
         "98.39142091152814"
        ],
        [
         "1",
         "K-nearest neighbors",
         "96.32183908045977",
         "95.26362823949955"
        ],
        [
         "2",
         "Support Vector Machine",
         "98.81226053639847",
         "98.57015192135835"
        ],
        [
         "3",
         "Decision Tree Classifier",
         "99.92337164750957",
         "99.37444146559427"
        ]
       ],
       "shape": {
        "columns": 3,
        "rows": 4
       }
      },
      "text/html": [
       "<div>\n",
       "<style scoped>\n",
       "    .dataframe tbody tr th:only-of-type {\n",
       "        vertical-align: middle;\n",
       "    }\n",
       "\n",
       "    .dataframe tbody tr th {\n",
       "        vertical-align: top;\n",
       "    }\n",
       "\n",
       "    .dataframe thead th {\n",
       "        text-align: right;\n",
       "    }\n",
       "</style>\n",
       "<table border=\"1\" class=\"dataframe\">\n",
       "  <thead>\n",
       "    <tr style=\"text-align: right;\">\n",
       "      <th></th>\n",
       "      <th>Model</th>\n",
       "      <th>Training Accuracy %</th>\n",
       "      <th>Testing Accuracy %</th>\n",
       "    </tr>\n",
       "  </thead>\n",
       "  <tbody>\n",
       "    <tr>\n",
       "      <th>0</th>\n",
       "      <td>Logistic Regression</td>\n",
       "      <td>98.965517</td>\n",
       "      <td>98.391421</td>\n",
       "    </tr>\n",
       "    <tr>\n",
       "      <th>1</th>\n",
       "      <td>K-nearest neighbors</td>\n",
       "      <td>96.321839</td>\n",
       "      <td>95.263628</td>\n",
       "    </tr>\n",
       "    <tr>\n",
       "      <th>2</th>\n",
       "      <td>Support Vector Machine</td>\n",
       "      <td>98.812261</td>\n",
       "      <td>98.570152</td>\n",
       "    </tr>\n",
       "    <tr>\n",
       "      <th>3</th>\n",
       "      <td>Decision Tree Classifier</td>\n",
       "      <td>99.923372</td>\n",
       "      <td>99.374441</td>\n",
       "    </tr>\n",
       "  </tbody>\n",
       "</table>\n",
       "</div>"
      ],
      "text/plain": [
       "                      Model  Training Accuracy %  Testing Accuracy %\n",
       "0       Logistic Regression            98.965517           98.391421\n",
       "1       K-nearest neighbors            96.321839           95.263628\n",
       "2    Support Vector Machine            98.812261           98.570152\n",
       "3  Decision Tree Classifier            99.923372           99.374441"
      ]
     },
     "execution_count": 70,
     "metadata": {},
     "output_type": "execute_result"
    }
   ],
   "source": [
    "test_score = accuracy_score(y_test, tree_clf.predict(X_test)) * 100\n",
    "train_score = accuracy_score(y_train, tree_clf.predict(X_train)) * 100\n",
    "\n",
    "results_df_2 = pd.DataFrame(data=[[\"Decision Tree Classifier\", train_score, test_score]], \n",
    "                          columns=['Model', 'Training Accuracy %', 'Testing Accuracy %'])\n",
    "results_df = pd.concat([results_df, results_df_2], ignore_index=True)\n",
    "results_df\n",
    "\n"
   ]
  },
  {
   "cell_type": "markdown",
   "id": "75bc9ce5",
   "metadata": {},
   "source": [
    "#  5. Random Forest"
   ]
  },
  {
   "cell_type": "code",
   "execution_count": 71,
   "id": "9689e3de",
   "metadata": {},
   "outputs": [
    {
     "name": "stdout",
     "output_type": "stream",
     "text": [
      "Train Result:\n",
      "================================================\n",
      "Accuracy Score: 99.92%\n",
      "_______________________________________________\n",
      "CLASSIFICATION REPORT:\n",
      "                  FAKE         REAL  accuracy    macro avg  weighted avg\n",
      "precision     0.998486     1.000000  0.999234     0.999243      0.999235\n",
      "recall        1.000000     0.998451  0.999234     0.999225      0.999234\n",
      "f1-score      0.999242     0.999225  0.999234     0.999234      0.999234\n",
      "support    1319.000000  1291.000000  0.999234  2610.000000   2610.000000\n",
      "_______________________________________________\n",
      "Confusion Matrix: \n",
      " [[1319    0]\n",
      " [   2 1289]]\n",
      "\n",
      "Test Result:\n",
      "================================================\n",
      "Accuracy Score: 98.93%\n",
      "_______________________________________________\n",
      "CLASSIFICATION REPORT:\n",
      "                 FAKE        REAL  accuracy    macro avg  weighted avg\n",
      "precision    0.978947    1.000000  0.989276     0.989474      0.989502\n",
      "recall       1.000000    0.978610  0.989276     0.989305      0.989276\n",
      "f1-score     0.989362    0.989189  0.989276     0.989275      0.989275\n",
      "support    558.000000  561.000000  0.989276  1119.000000   1119.000000\n",
      "_______________________________________________\n",
      "Confusion Matrix: \n",
      " [[558   0]\n",
      " [ 12 549]]\n",
      "\n"
     ]
    }
   ],
   "source": [
    "from sklearn.ensemble import RandomForestClassifier\n",
    "from sklearn.model_selection import RandomizedSearchCV\n",
    "\n",
    "rf_clf = RandomForestClassifier(n_estimators=1000, random_state=42)\n",
    "rf_clf.fit(X_train, y_train)\n",
    "\n",
    "print_score(rf_clf, X_train, y_train, X_test, y_test, train=True)\n",
    "print_score(rf_clf, X_train, y_train, X_test, y_test, train=False)"
   ]
  },
  {
   "cell_type": "code",
   "execution_count": 72,
   "id": "f4fe1a5e",
   "metadata": {},
   "outputs": [
    {
     "data": {
      "application/vnd.microsoft.datawrangler.viewer.v0+json": {
       "columns": [
        {
         "name": "index",
         "rawType": "int64",
         "type": "integer"
        },
        {
         "name": "Model",
         "rawType": "object",
         "type": "string"
        },
        {
         "name": "Training Accuracy %",
         "rawType": "float64",
         "type": "float"
        },
        {
         "name": "Testing Accuracy %",
         "rawType": "float64",
         "type": "float"
        }
       ],
       "conversionMethod": "pd.DataFrame",
       "ref": "0d3a6b4a-4ab5-42dd-9997-8aa5942270ff",
       "rows": [
        [
         "0",
         "Logistic Regression",
         "98.9655172413793",
         "98.39142091152814"
        ],
        [
         "1",
         "K-nearest neighbors",
         "96.32183908045977",
         "95.26362823949955"
        ],
        [
         "2",
         "Support Vector Machine",
         "98.81226053639847",
         "98.57015192135835"
        ],
        [
         "3",
         "Decision Tree Classifier",
         "99.92337164750957",
         "99.37444146559427"
        ],
        [
         "4",
         "Random Forest Classifier",
         "99.92337164750957",
         "98.92761394101876"
        ]
       ],
       "shape": {
        "columns": 3,
        "rows": 5
       }
      },
      "text/html": [
       "<div>\n",
       "<style scoped>\n",
       "    .dataframe tbody tr th:only-of-type {\n",
       "        vertical-align: middle;\n",
       "    }\n",
       "\n",
       "    .dataframe tbody tr th {\n",
       "        vertical-align: top;\n",
       "    }\n",
       "\n",
       "    .dataframe thead th {\n",
       "        text-align: right;\n",
       "    }\n",
       "</style>\n",
       "<table border=\"1\" class=\"dataframe\">\n",
       "  <thead>\n",
       "    <tr style=\"text-align: right;\">\n",
       "      <th></th>\n",
       "      <th>Model</th>\n",
       "      <th>Training Accuracy %</th>\n",
       "      <th>Testing Accuracy %</th>\n",
       "    </tr>\n",
       "  </thead>\n",
       "  <tbody>\n",
       "    <tr>\n",
       "      <th>0</th>\n",
       "      <td>Logistic Regression</td>\n",
       "      <td>98.965517</td>\n",
       "      <td>98.391421</td>\n",
       "    </tr>\n",
       "    <tr>\n",
       "      <th>1</th>\n",
       "      <td>K-nearest neighbors</td>\n",
       "      <td>96.321839</td>\n",
       "      <td>95.263628</td>\n",
       "    </tr>\n",
       "    <tr>\n",
       "      <th>2</th>\n",
       "      <td>Support Vector Machine</td>\n",
       "      <td>98.812261</td>\n",
       "      <td>98.570152</td>\n",
       "    </tr>\n",
       "    <tr>\n",
       "      <th>3</th>\n",
       "      <td>Decision Tree Classifier</td>\n",
       "      <td>99.923372</td>\n",
       "      <td>99.374441</td>\n",
       "    </tr>\n",
       "    <tr>\n",
       "      <th>4</th>\n",
       "      <td>Random Forest Classifier</td>\n",
       "      <td>99.923372</td>\n",
       "      <td>98.927614</td>\n",
       "    </tr>\n",
       "  </tbody>\n",
       "</table>\n",
       "</div>"
      ],
      "text/plain": [
       "                      Model  Training Accuracy %  Testing Accuracy %\n",
       "0       Logistic Regression            98.965517           98.391421\n",
       "1       K-nearest neighbors            96.321839           95.263628\n",
       "2    Support Vector Machine            98.812261           98.570152\n",
       "3  Decision Tree Classifier            99.923372           99.374441\n",
       "4  Random Forest Classifier            99.923372           98.927614"
      ]
     },
     "execution_count": 72,
     "metadata": {},
     "output_type": "execute_result"
    }
   ],
   "source": [
    "test_score = accuracy_score(y_test, rf_clf.predict(X_test)) * 100\n",
    "train_score = accuracy_score(y_train, rf_clf.predict(X_train)) * 100\n",
    "\n",
    "results_df_2 = pd.DataFrame(data=[[\"Random Forest Classifier\", train_score, test_score]], \n",
    "                          columns=['Model', 'Training Accuracy %', 'Testing Accuracy %'])\n",
    "results_df = pd.concat([results_df, results_df_2], ignore_index=True)\n",
    "results_df\n",
    "\n"
   ]
  }
 ],
 "metadata": {
  "kernelspec": {
   "display_name": ".venv",
   "language": "python",
   "name": "python3"
  },
  "language_info": {
   "codemirror_mode": {
    "name": "ipython",
    "version": 3
   },
   "file_extension": ".py",
   "mimetype": "text/x-python",
   "name": "python",
   "nbconvert_exporter": "python",
   "pygments_lexer": "ipython3",
   "version": "3.12.3"
  }
 },
 "nbformat": 4,
 "nbformat_minor": 5
}
